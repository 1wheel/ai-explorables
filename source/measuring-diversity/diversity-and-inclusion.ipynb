{
  "nbformat": 4,
  "nbformat_minor": 0,
  "metadata": {
    "colab": {
      "name": "Public_Facing_Diversity_and_Inclusion_Demo.ipynb",
      "provenance": [],
      "collapsed_sections": [
        "JndnmDMp66FL",
        "quH3R39RRPqZ",
        "y6k4Nya6cvti"
      ]
    },
    "kernelspec": {
      "display_name": "Python 3",
      "name": "python3"
    }
  },
  "cells": [
    {
      "cell_type": "markdown",
      "metadata": {
        "id": "JndnmDMp66FL"
      },
      "source": [
        "##### Copyright 2021 Google LLC.\n",
        "\n",
        "Licensed under the Apache License, Version 2.0 (the \"License\");"
      ]
    },
    {
      "cell_type": "code",
      "metadata": {
        "id": "hMqWDc_m6rUC",
        "cellView": "form"
      },
      "source": [
        "#@title License information\n",
        "# Licensed under the Apache License, Version 2.0 (the \"License\");\n",
        "# you may not use this file except in compliance with the License.\n",
        "# You may obtain a copy of the License at\n",
        "#\n",
        "# https://www.apache.org/licenses/LICENSE-2.0\n",
        "#\n",
        "# Unless required by applicable law or agreed to in writing, software\n",
        "# distributed under the License is distributed on an \"AS IS\" BASIS,\n",
        "# WITHOUT WARRANTIES OR CONDITIONS OF ANY KIND, either express or implied.\n",
        "# See the License for the specific language governing permissions and\n",
        "# limitations under the License."
      ],
      "execution_count": null,
      "outputs": []
    },
    {
      "cell_type": "markdown",
      "metadata": {
        "id": "47oyEnHoFCTp"
      },
      "source": [
        "\n",
        "\n",
        "# _Diversity and Inclusion Metrics in Subset Selection_ Demo\n",
        "\n",
        "\n",
        "\n",
        "The following notebook is an example implementation of a very simple way one might define and implement diversity and inclusion scoring for images of people.\n",
        "\n",
        "This is based on the paper [_Diversity and Inclusion Metrics in Subset Selection_](https://arxiv.org/pdf/2002.03256.pdf) and has a corresponding [PAIR explorable](https://pair.withgoogle.com/explorables/measuring-diversity/).\n",
        "\n",
        "Written by Dylan Baker."
      ]
    },
    {
      "cell_type": "code",
      "metadata": {
        "id": "LZ9A6Ia3rZGJ",
        "cellView": "form"
      },
      "source": [
        "#@title Imports\n",
        "\n",
        "import numpy as np\n",
        "from collections import defaultdict\n",
        "import functools\n",
        "from PIL import Image, ImageDraw, ImageFont\n",
        "import matplotlib.pyplot as plt\n",
        "import attr\n",
        "import random\n",
        "from IPython.display import Image as ipython_image\n",
        "from IPython.display import HTML\n",
        "from six.moves import reload_module"
      ],
      "execution_count": null,
      "outputs": []
    },
    {
      "cell_type": "code",
      "metadata": {
        "id": "vxFdq1AsH4ds",
        "cellView": "form"
      },
      "source": [
        "#@title Utility functions\n",
        "\n",
        "\"\"\"Utils for Diversity and Inclusion metrics colab notebook.\"\"\"\n",
        "\n",
        "import abc\n",
        "import six\n",
        "\n",
        "\n",
        "class Entity(object):\n",
        "  \"\"\"An entity for scoring using diversity and inclusion metrics.\n",
        "\n",
        "  Entities have properties, which are the axes along which diversity and\n",
        "  inclusion are scored.\n",
        "  \"\"\"\n",
        "\n",
        "  def __init__(self, properties, title=''):\n",
        "    self.properties = properties\n",
        "    self._title = title\n",
        "\n",
        "  def __repr__(self):\n",
        "    return self._title + ' '.join(\n",
        "        ['%s: %s' % (key, value) for key, value in self.properties.items()])\n",
        "\n",
        "\n",
        "class EntityImage(object):\n",
        "  \"\"\"An image of an entity.\n",
        "\n",
        "  An image can have properties that are separate from the properties of the\n",
        "  entities.\n",
        "  \"\"\"\n",
        "\n",
        "  def __init__(self, entities, image_fetcher, properties=None):\n",
        "    self.entities = entities\n",
        "    self.properties = properties\n",
        "    self._image_fetcher = image_fetcher\n",
        "\n",
        "  def show(self):\n",
        "    self._image_fetcher.fetch()\n",
        "\n",
        "\n",
        "@six.add_metaclass(abc.ABCMeta)\n",
        "class ImageFetcher(object):\n",
        "  \"\"\"Fetches an image of an entity for display.\"\"\"\n",
        "\n",
        "  @abc.abstractmethod\n",
        "  def __init__(self):\n",
        "    \"\"\"Initialize ImageFetcher with input parameters.\"\"\"\n",
        "    pass\n",
        "\n",
        "  @abc.abstractmethod\n",
        "  def fetch(self):\n",
        "    \"\"\"Fetch and display the image itself.\"\"\"\n",
        "    pass\n"
      ],
      "execution_count": null,
      "outputs": []
    },
    {
      "cell_type": "code",
      "metadata": {
        "id": "QEwmZUjQHtfW",
        "cellView": "form"
      },
      "source": [
        "#@title Enums\n",
        "\n",
        "# Lint as: python3\n",
        "\"\"\"Enums to be used in a demo colab notebook implementing D&I metrics.\"\"\"\n",
        "import enum\n",
        "\n",
        "\n",
        "def get_enum_values(enum_class):\n",
        "  \"\"\"Helper function to get all possible values of an Enum.\n",
        "\n",
        "  Args:\n",
        "    enum_class: A class that inherits from enum.Enum\n",
        "\n",
        "  Returns:\n",
        "    Set containing all enum values in input class.\n",
        "  \"\"\"\n",
        "  return set(\n",
        "      [enum_value for _, enum_value in list(enum_class.__members__.items())])\n",
        "\n",
        "\n",
        "class SkinType(enum.Enum):\n",
        "  UNKNOWN = 0\n",
        "  TYPE_1 = 1\n",
        "  TYPE_2 = 2\n",
        "  TYPE_3 = 3\n",
        "  TYPE_4 = 4\n",
        "  TYPE_5 = 5\n",
        "  TYPE_6 = 6\n",
        "\n",
        "\n",
        "# Choosing presentation over gender to better line up with infering\n",
        "# this from photos.\n",
        "class GenderPresentation(enum.Enum):\n",
        "  UNKNOWN = 0\n",
        "  FEMININE = 1\n",
        "  MASCULINE = 2\n",
        "  # Intended to be a very broad umbrella.\n",
        "  ANDROGYNOUS = 3\n",
        "\n",
        "\n",
        "# Using wide buckets because it's very hard to infer from photos.\n",
        "class Age(enum.Enum):\n",
        "  UNKNOWN = 0\n",
        "  RANGE_0_17 = 1\n",
        "  RANGE_18_24 = 2\n",
        "  RANGE_25_44 = 3\n",
        "  RANGE_45_64 = 4\n",
        "  RANGE_65_OVER = 5\n",
        "\n",
        "\n",
        "class Color(enum.Enum):\n",
        "  RED = 1\n",
        "  BLUE = 2\n",
        "  GREEN = 3\n",
        "\n",
        "\n",
        "class Size(enum.Enum):\n",
        "  SMALL = 1\n",
        "  MEDIUM = 2\n",
        "  LARGE = 3\n",
        "\n",
        "\n",
        "class ShapeType(enum.Enum):\n",
        "  TRIANGLE = 1\n",
        "  SQUARE = 2\n",
        "  CIRCLE = 3\n",
        "\n",
        "\n",
        "def age_to_enum(age):\n",
        "  \"\"\"Parses age integer into Age enum class.\"\"\"\n",
        "  if age <= 17:\n",
        "    return Age.RANGE_0_17\n",
        "  elif age <= 24:\n",
        "    return Age.RANGE_18_24\n",
        "  elif age <= 44:\n",
        "    return Age.RANGE_25_44\n",
        "  elif age <= 64:\n",
        "    return Age.RANGE_45_64\n",
        "  elif age >= 65:\n",
        "    return Age.RANGE_65_OVER\n",
        "  else:\n",
        "    raise ValueError('Unable to parse age: ', age)\n",
        "\n",
        "\n",
        "def gender_to_enum(gender):\n",
        "  \"\"\"Parses string to GenderPresentation enum.\"\"\"\n",
        "  if gender.lower() == 'masculine':\n",
        "    return GenderPresentation.MASCULINE\n",
        "  elif gender.lower() == 'feminine':\n",
        "    return GenderPresentation.FEMININE\n",
        "  elif gender.lower() == 'androgynous':\n",
        "    return GenderPresentation.ANDROGYNOUS\n",
        "  else:\n",
        "    raise ValueError('Unable to parse gender: ', gender)\n",
        "\n",
        "\n",
        "def skin_type_to_enum(skin_type):\n",
        "  \"\"\"Parses string to SkinType enum.\"\"\"\n",
        "  return SkinType(skin_type)"
      ],
      "execution_count": null,
      "outputs": []
    },
    {
      "cell_type": "code",
      "metadata": {
        "id": "MgF0jpWsHxke",
        "cellView": "form"
      },
      "source": [
        "#@title Display\n",
        "\n",
        "\"\"\"Display functions for Diversity & Inclusion Metrics Explorable Colab.\"\"\"\n",
        "\n",
        "import random\n",
        "\n",
        "import matplotlib.pyplot as plt\n",
        "import numpy as np\n",
        "from PIL import Image\n",
        "from PIL import ImageDraw\n",
        "from PIL import ImageFont\n",
        "\n",
        "# Default canvas size for drawing shape images.\n",
        "_DEFAULT_HEIGHT, _DEFAULT_WIDTH = 150, 250\n",
        "\n",
        "# Map Sizes to the edge size of a tight square bounding box around a shape.\n",
        "_SIZE_TO_WIDTH = {\n",
        "    Size.SMALL: _DEFAULT_WIDTH / 10,\n",
        "    Size.MEDIUM: _DEFAULT_WIDTH / 5,\n",
        "    Size.LARGE: _DEFAULT_WIDTH / 3\n",
        "}\n",
        "\n",
        "# Padding around canvas edge to avoid too much spillover off of the canvas.\n",
        "_BORDER = _DEFAULT_WIDTH / 10\n",
        "\n",
        "# Map the color enums to some nicer matplotlib colors.\n",
        "_COLOR_TO_MATPLOTLIB = {\n",
        "    Color.RED: 'firebrick',\n",
        "    Color.BLUE: 'skyblue',\n",
        "    Color.GREEN: 'forestgreen',\n",
        "}\n",
        "\n",
        "\n",
        "def _get_bbox(center, size):\n",
        "  \"\"\"Get a bounding box for a shape given a center point and a Size.\"\"\"\n",
        "  center_x, center_y = center\n",
        "  shape_edge_size = _SIZE_TO_WIDTH[size]\n",
        "  left = int(center_x - 0.5 * shape_edge_size)\n",
        "  right = int(center_x + 0.5 * shape_edge_size)\n",
        "  top = int(center_y - 0.5 * shape_edge_size)\n",
        "  bottom = int(center_y + 0.5 * shape_edge_size)\n",
        "  return left, right, bottom, top\n",
        "\n",
        "\n",
        "def _get_random_center():\n",
        "  return (random.randint(_BORDER, _DEFAULT_WIDTH - _BORDER),\n",
        "          random.randint(_BORDER, _DEFAULT_HEIGHT - _BORDER))\n",
        "\n",
        "\n",
        "def _draw_triangle(draw,\n",
        "                   size=Size.SMALL,\n",
        "                   color=Color.BLUE,\n",
        "                   center=None):\n",
        "  if not center:\n",
        "    center = _get_random_center()\n",
        "  left, right, bottom, top = _get_bbox(center, size)\n",
        "  center_x, unused_center_y = center\n",
        "  draw.polygon([(left, bottom), (center_x, top), (right, bottom)],\n",
        "               fill=color,\n",
        "               outline='black')\n",
        "\n",
        "\n",
        "def _draw_square(draw,\n",
        "                 size=Size.SMALL,\n",
        "                 color=Color.BLUE,\n",
        "                 center=None):\n",
        "  if not center:\n",
        "    center = _get_random_center()\n",
        "  left, right, bottom, top = _get_bbox(center, size)\n",
        "  draw.rectangle([(left, top), (right, bottom)],\n",
        "                 fill=color,\n",
        "                 outline='black',\n",
        "                 width=1)\n",
        "\n",
        "\n",
        "def _draw_circle(draw,\n",
        "                 size=Size.SMALL,\n",
        "                 color=Color.BLUE,\n",
        "                 center=None):\n",
        "  if not center:\n",
        "    center = _get_random_center()\n",
        "  left, right, bottom, top = _get_bbox(center, size)\n",
        "  draw.ellipse([(left, top), (right, bottom)],\n",
        "               fill=color,\n",
        "               outline='black',\n",
        "               width=1)\n",
        "\n",
        "\n",
        "def _draw_one_shape(draw, shape, center):\n",
        "  \"\"\"Draws the given shape with a given center point.\n",
        "\n",
        "  Args:\n",
        "    draw: ImageDraw.Draw object.\n",
        "    shape: The input shape entity.\n",
        "    center: (x,y) center coordinates.\n",
        "  \"\"\"\n",
        "  if shape.properties[ShapeType] == ShapeType.TRIANGLE:\n",
        "    _draw_triangle(\n",
        "        draw,\n",
        "        shape.properties[Size],\n",
        "        _COLOR_TO_MATPLOTLIB[shape.properties[Color]],\n",
        "        center=center)\n",
        "  if shape.properties[ShapeType] == ShapeType.SQUARE:\n",
        "    _draw_square(\n",
        "        draw,\n",
        "        shape.properties[Size],\n",
        "        _COLOR_TO_MATPLOTLIB[shape.properties[Color]],\n",
        "        center=center)\n",
        "  if shape.properties[ShapeType] == ShapeType.CIRCLE:\n",
        "    _draw_circle(\n",
        "        draw,\n",
        "        shape.properties[Size],\n",
        "        _COLOR_TO_MATPLOTLIB[shape.properties[Color]],\n",
        "        center=center)\n",
        "\n",
        "\n",
        "def _show_image_html_from_url(img_url, max_width=200):\n",
        "  \"\"\"Show an image inline from a URL using colabtools HTML.\"\"\"\n",
        "  img_html = '<img src=\"{0}\" width={1}>'.format(img_url, max_width)\n",
        "  display(HTML(img_html))\n",
        "\n",
        "\n",
        "\n",
        "class PersonFetcher(ImageFetcher):\n",
        "  \"\"\"A Fetcher for displaying an image loaded from a URL.\"\"\"\n",
        "\n",
        "  def __init__(self, image_url):\n",
        "    self._image_url = image_url\n",
        "\n",
        "  def fetch(self):\n",
        "    _show_image_html_from_url(self._image_url)\n",
        "\n",
        "\n",
        "class ShapeFetcher(ImageFetcher):\n",
        "  \"\"\"A Fetcher for displaying shapes drawn with matplotlib.\"\"\"\n",
        "\n",
        "  def __init__(self, shapes, title=None, shuffle=True):\n",
        "    self._shapes = shapes\n",
        "    self._title = title\n",
        "    self._shuffle_shapes_when_displaying = shuffle\n",
        "\n",
        "  def fetch(self):\n",
        "    draw_shapes(\n",
        "        self._shapes,\n",
        "        title=self._title,\n",
        "        shuffle=self._shuffle_shapes_when_displaying)\n",
        "\n",
        "\n",
        "def create_image_from_shapes(shapes, title=''):\n",
        "  \"\"\"Returns an EntityImage from a list of input shapes.\n",
        "\n",
        "  This is initialized with a ShapeFetcher, which is used to draw the image.\n",
        "\n",
        "  Args:\n",
        "    shapes: List of shape Entities.\n",
        "    title: An optional title for the image, for display.\n",
        "\n",
        "  Returns:\n",
        "    Initialized EntityImage.\n",
        "  \"\"\"\n",
        "  return EntityImage(shapes, ShapeFetcher(shapes, title))\n",
        "\n",
        "\n",
        "def draw_shapes(shapes, title=None, shuffle=True):\n",
        "  \"\"\"Draws shape entities on a new matplotlib plot.\n",
        "\n",
        "  Example usage:\n",
        "\n",
        "    my_shapes = [\n",
        "      Entity(properties = {\n",
        "        Color: Color.BLUE,\n",
        "        Size: Size.LARGE,\n",
        "        ShapeType: ShapeType.CIRCLE,\n",
        "      })\n",
        "    ]\n",
        "\n",
        "    draw_shapes(my_shapes, 'A large blue circle')\n",
        "\n",
        "  Args:\n",
        "    shapes: List of input shape Entities. Each entity must have Color, Size, and\n",
        "      ShapeType specified as properties.\n",
        "    title: A title, to be shown at the top of the image.\n",
        "    shuffle: Whether or not to shuffle the order of the shapes when drawing.\n",
        "  \"\"\"\n",
        "  canvas = Image.fromarray(np.ones([_DEFAULT_HEIGHT, _DEFAULT_WIDTH]) *\n",
        "                           240).convert('RGBA')\n",
        "  draw = ImageDraw.Draw(canvas)\n",
        "  center_x_coords = np.linspace(_BORDER, _DEFAULT_WIDTH - _BORDER,\n",
        "                                len(shapes) + 2)[1:-1]\n",
        "\n",
        "  # Alternate upper and lower coordinates; this spaces out the shapes more\n",
        "  # nicely.\n",
        "  center_y_values = np.linspace(_BORDER, _DEFAULT_HEIGHT - _BORDER, 4)[1:-1]\n",
        "  center_y_coords = [center_y_values[i % 2] for i in range(len(shapes))]\n",
        "  centers = zip(center_x_coords, center_y_coords)\n",
        "  if shuffle:\n",
        "    random.shuffle(shapes)\n",
        "  for shape, center in zip(shapes, centers):\n",
        "    _draw_one_shape(draw, shape, center)\n",
        "\n",
        "  if title:\n",
        "    draw.text((10, 10), title, (0, 0, 0))\n",
        "\n",
        "  plt.imshow(canvas, aspect='equal')\n",
        "  plt.axis('off')\n",
        "  plt.grid(False)\n",
        "  plt.show()"
      ],
      "execution_count": null,
      "outputs": []
    },
    {
      "cell_type": "code",
      "metadata": {
        "id": "UJpQ8y71H1-r",
        "cellView": "form"
      },
      "source": [
        "#@title Scoring\n",
        "\n",
        "\"\"\"Scoring functions for diversity and inclusion demo.\"\"\"\n",
        "\n",
        "import numpy as np\n",
        "import collections\n",
        "\n",
        "# Using strings here so we're able to easily check for membership in each set;\n",
        "# EnumMeta doesn't support comparison.\n",
        "# These are properties where closer enum values correspond to actual similarity.\n",
        "_CLOSENESS_PROPERTIES = frozenset(\n",
        "    [str(Age), str(SkinType),\n",
        "     str(Size)])\n",
        "# These are properties where enum values are independent.\n",
        "_MATCH_PROPERTIES = frozenset(\n",
        "    [str(GenderPresentation),\n",
        "     str(Color),\n",
        "     str(ShapeType)])\n",
        "\n",
        "\n",
        "def _to_aggregator_fn(aggregator):\n",
        "  \"\"\"Maps from name to aggregator function.\n",
        "\n",
        "  Args:\n",
        "    aggregator: Either a name (e.g. 'average'), or for the weighted average\n",
        "      case, a dictionary mapping category names (e.g. Color) to weights\n",
        "      (e.g. 0.4).\n",
        "\n",
        "  Returns:\n",
        "    A function that takes a {category name, value} dictionary and returns a\n",
        "      float.\n",
        "  \"\"\"\n",
        "\n",
        "  # If this is a dict, we're using it to compute weighted averages.\n",
        "  def compute_weighted_average(weights_dict):\n",
        "    return sum([value * aggregator[key] for key, value in weights_dict.items()])\n",
        "\n",
        "  if isinstance(aggregator, dict):\n",
        "    return compute_weighted_average\n",
        "\n",
        "  score_fn = None\n",
        "  if aggregator == 'average':\n",
        "    score_fn = np.average\n",
        "  elif aggregator == 'min':\n",
        "    score_fn = min\n",
        "  elif aggregator == 'max':\n",
        "    score_fn = max\n",
        "  elif aggregator == 'nash':\n",
        "    score_fn = nash_score\n",
        "  elif aggregator == 'utilitarian':\n",
        "    score_fn = utilitarian_score\n",
        "  elif aggregator == 'egalitarian':\n",
        "    score_fn = egalitarian_score\n",
        "  else:\n",
        "    raise NotImplementedError('Aggregation method %s not implemented' %\n",
        "                              aggregator)\n",
        "\n",
        "  # Just return a function that scores each value in the input score dict.\n",
        "  return (lambda score_dict: score_fn(\n",
        "      [value for unused_key, value in score_dict.items()]))\n",
        "\n",
        "\n",
        "def nash_score(subscores):\n",
        "  \"\"\"Compute Nash inclusivity score.\"\"\"\n",
        "  root = len(subscores)\n",
        "  return np.prod(subscores)**(1 / root)\n",
        "\n",
        "\n",
        "def utilitarian_score(subscores):\n",
        "  \"\"\"Compute Utilitarian inclusivity score.\"\"\"\n",
        "  return sum(subscores) / len(subscores)\n",
        "\n",
        "\n",
        "def egalitarian_score(subscores):\n",
        "  \"\"\"Compute Egalitarian (maximin) inclusivity score.\"\"\"\n",
        "  return min(subscores)\n",
        "\n",
        "\n",
        "# We have a separate comparison function here because we need\n",
        "# all of the subscores for tiebreaking.\n",
        "def egalitarian_compare(subscores_a, subscores_b):\n",
        "  \"\"\"Returns 1 if subscores_a > subscores_b, 0 if they are equal, -1 otherwise.\"\"\"\n",
        "  if len(subscores_a) != len(subscores_b):\n",
        "    raise ValueError('Subscores must have the same length.')\n",
        "  print(subscores_a, subscores_b)\n",
        "  subscores_a.sort()\n",
        "  subscores_b.sort()\n",
        "  print(subscores_a, subscores_b)\n",
        "  for first_a, first_b in zip(subscores_a, subscores_b):\n",
        "    if first_a == first_b:\n",
        "      continue\n",
        "    else:\n",
        "      return 1 if first_a > first_b else -1\n",
        "  # Return 0 if they're the same.\n",
        "  return 0\n",
        "\n",
        "\n",
        "class Scorer(object):\n",
        "  \"\"\"An object that scores and ranks images or sets of images.\n",
        "\n",
        "  Scoring is dependent on the person making a query and the query they made.\n",
        "  \"\"\"\n",
        "\n",
        "  def __init__(self,\n",
        "               viewer,\n",
        "               diversity_fn=None,\n",
        "               inclusion_fn=None,\n",
        "               combiner=None):\n",
        "    \"\"\"Initializes a scorer.\n",
        "\n",
        "    Args:\n",
        "      viewer: A Viewer to serve as a reference point when scoring results.\n",
        "      diversity_fn: A DiversityFn, which calculates per-image diversity scores.\n",
        "      inclusion_fn: An InclusionFn, which calculates per-image inclusion scores.\n",
        "      combiner: A Combiner, which combines inclusion and diversity scores.\n",
        "    \"\"\"\n",
        "    self.viewer = viewer\n",
        "    self.diversity_fn = diversity_fn\n",
        "    self.inclusion_fn = inclusion_fn\n",
        "    self.combiner = combiner\n",
        "\n",
        "  def get_image_subscores(self, image, query='', verbose_output=False):\n",
        "    \"\"\"Computes diversity and inclusion subscores for a single image.\n",
        "\n",
        "    Args:\n",
        "      image: An EntityImage\n",
        "      query: The query, used for computing relevance inclusion subscore.\n",
        "      verbose_output: Whether or not to print out all computation steps.\n",
        "\n",
        "    Returns:\n",
        "      Dictionaries mapping diversity and inclusion subscore names to values.\n",
        "    \"\"\"\n",
        "    if not self.diversity_fn or not self.inclusion_fn or not self.combiner:\n",
        "      raise ValueError('Diversity, inclusion, and combination functions '\n",
        "                       'must all be specified. (%s, %s, %s)' %\n",
        "                       (self.diversity_fn, self.inclusion_fn, self.combiner))\n",
        "    if verbose_output:\n",
        "      print('\\n===================')\n",
        "      print('===== Scoring =====')\n",
        "      print('===================\\n')\n",
        "      image.show()\n",
        "      print(self.viewer)\n",
        "      if query:\n",
        "        print('Query:', query)\n",
        "    diversity_scores = self.diversity_fn.score_image(\n",
        "        image, verbose_output=verbose_output)\n",
        "    inclusion_scores = self.inclusion_fn.score_image(\n",
        "        viewer=self.viewer,\n",
        "        image=image,\n",
        "        query=query,\n",
        "        verbose_output=verbose_output)\n",
        "    return diversity_scores, inclusion_scores\n",
        "\n",
        "  def score_image(self, image, query='', verbose_output=False):\n",
        "    \"\"\"Computes diversity and inclusion scores for a single image.\n",
        "\n",
        "    Args:\n",
        "      image: An EntityImage\n",
        "      query: The query, used for computing relevance inclusion subscore.\n",
        "      verbose_output: Whether or not to print out all computation steps.\n",
        "\n",
        "    Returns:\n",
        "      A single net score for the image, float.\n",
        "    \"\"\"\n",
        "    diversity_scores, inclusion_scores = self.get_image_subscores(\n",
        "        image, query=query, verbose_output=verbose_output)\n",
        "\n",
        "    net_score = self.combiner.combine(\n",
        "        diversity_scores=diversity_scores,\n",
        "        inclusion_scores=inclusion_scores,\n",
        "        aggregation_level='image',\n",
        "        verbose_output=verbose_output)\n",
        "\n",
        "    return net_score\n",
        "\n",
        "  def rank_images(self, images, query='', verbose_output=False):\n",
        "    \"\"\"Rank a list of images using their net diversity and inclusion scores.\n",
        "\n",
        "    Args:\n",
        "      images: A list of EntityImages.\n",
        "      query: The query, used for computing relevance inclusion subscore.\n",
        "      verbose_output: Whether or not to print out final ranking.\n",
        "\n",
        "    Returns:\n",
        "      A sorted list of (image, score) tuples.\n",
        "    \"\"\"\n",
        "    # In this case, verbose_output refers to whether or not you will print out\n",
        "    # the ranking itself.\n",
        "    if self.combiner.diversity_aggregate_name == 'egalitarian':\n",
        "      # True egalitarian ranking would give us separate diversity & inclusion\n",
        "      # rankings.\n",
        "      logging.warn('Warning: egalitarian tiebreaking not implemented.')\n",
        "\n",
        "    # Don't use verbose_output for the scoring itself, only for the ranking.\n",
        "    images_with_scores = [(image,\n",
        "                           self.score_image(image, query, verbose_output=False))\n",
        "                          for image in images]\n",
        "    images_with_scores.sort(key=lambda x: x[1], reverse=True)\n",
        "    if verbose_output:\n",
        "      print('===================')\n",
        "      print('===== Ranking =====')\n",
        "      print('===================')\n",
        "      print(self.viewer)\n",
        "      print('Query: %s' % query)\n",
        "      print('\\n')\n",
        "      for index, (image, score) in enumerate(images_with_scores):\n",
        "        print('==== Ranking %d [score: %s] ====' %\n",
        "              (index + 1, np.around(score, 3)))\n",
        "        image.show()\n",
        "        print('\\n')\n",
        "    return images_with_scores\n",
        "\n",
        "  def get_set_subscores(self, images, query='', verbose_output=False):\n",
        "    \"\"\"Score a set of images.\"\"\"\n",
        "\n",
        "    # Dictionaries mapping image names to their diversity/inclusion scores.\n",
        "    diversity_per_image_subscores, inclusion_per_image_subscores = {}, {}\n",
        "\n",
        "    for index, image in enumerate(images):\n",
        "      image_name = 'image %d' % (index + 1)\n",
        "      if verbose_output:\n",
        "        print('\\nScoring %s\\n' % image_name)\n",
        "      diversity_subscore, inclusion_subscore = self.get_image_subscores(\n",
        "          image, query=query, verbose_output=verbose_output)\n",
        "\n",
        "      # Aggregate across entities in each image to get the net\n",
        "      # diversity/inclusion score for that image.\n",
        "      diversity_per_image_subscores[\n",
        "          image_name] = self.combiner.aggregate_diversity_scores(\n",
        "              diversity_subscore)\n",
        "      inclusion_per_image_subscores[\n",
        "          image_name] = self.combiner.aggregate_inclusion_scores(\n",
        "              inclusion_subscore)\n",
        "\n",
        "    return diversity_per_image_subscores, inclusion_per_image_subscores\n",
        "\n",
        "  def score_set(self, images, query='', verbose_output=False):\n",
        "    \"\"\"Score a set of images.\n",
        "\n",
        "    Args:\n",
        "      images: A list of EntityImages.\n",
        "      query: The query, used for computing relevance inclusion subscore.\n",
        "      verbose_output: Whether or not to print out all computation steps.\n",
        "\n",
        "    Returns:\n",
        "      A single net score for the image set, float.\n",
        "    \"\"\"\n",
        "    diversity_per_image_subscores, inclusion_per_image_subscores = self.get_set_subscores(\n",
        "        images=images, query=query, verbose_output=verbose_output)\n",
        "    net_score = self.combiner.combine(\n",
        "        diversity_scores=diversity_per_image_subscores,\n",
        "        inclusion_scores=inclusion_per_image_subscores,\n",
        "        aggregation_level='set',\n",
        "        verbose_output=verbose_output)\n",
        "\n",
        "    return net_score\n",
        "\n",
        "\n",
        "class Combiner(object):\n",
        "  \"\"\"An object that combines diversity and inclusion scores.\n",
        "\n",
        "  This applies to both individual images and sets of images.\n",
        "  \"\"\"\n",
        "\n",
        "  def __init__(self,\n",
        "               diversity_weight=0.5,\n",
        "               inclusion_weight=None,\n",
        "               diversity_aggregate='average',\n",
        "               inclusion_aggregate='average',\n",
        "               set_diversity_aggregate='average',\n",
        "               set_inclusion_aggregate='average'):\n",
        "    \"\"\"Initializes Combiner.\n",
        "\n",
        "    A Combiner combines all of the diversity and inclusion subscores using\n",
        "    aggregator functions specified in the constructor.\n",
        "\n",
        "    Args:\n",
        "      diversity_weight: In computing a final score, amount to weight the net\n",
        "        diversity score vs. inclusion score.\n",
        "      inclusion_weight: In computing a final score, amount to weight the net\n",
        "        inclusion score vs. diversity score.\n",
        "      diversity_aggregate: How to aggregate diversity subscores across entities\n",
        "        within one image. Can either be a string indicating a type to apply for\n",
        "        all subscores (e.g. 'average') or a function that computes the average.\n",
        "      inclusion_aggregate:  How to aggregate inclusion subscores across entities\n",
        "        within one image. Can either be a string indicating a type to apply for\n",
        "        all subscores (e.g. 'average') or a function that computes the average.\n",
        "      set_diversity_aggregate: How to aggregate diversity subscores across\n",
        "        images in a set.\n",
        "      set_inclusion_aggregate: How to aggregate inclusion subscores across\n",
        "        images in a set.\n",
        "    \"\"\"\n",
        "    self.diversity_weight = diversity_weight\n",
        "    self.inclusion_weight = inclusion_weight\n",
        "\n",
        "    # Normalize diversity_weight and inclusion_weight to sum to 1.\n",
        "    self._normalize_weights()\n",
        "\n",
        "    self.diversity_aggregate_name = (\n",
        "        diversity_aggregate\n",
        "        if isinstance(diversity_aggregate, str) else 'weighed_average')\n",
        "    self.inclusion_aggregate_name = (\n",
        "        inclusion_aggregate\n",
        "        if isinstance(inclusion_aggregate, str) else 'weighed_average')\n",
        "    self.set_diversity_aggregate_name = (\n",
        "        set_diversity_aggregate\n",
        "        if isinstance(set_diversity_aggregate, str) else 'weighed_average')\n",
        "    self.set_inclusion_aggregate_name = (\n",
        "        set_inclusion_aggregate\n",
        "        if isinstance(set_inclusion_aggregate, str) else 'weighed_average')\n",
        "\n",
        "    self._diversity_agg_fn = _to_aggregator_fn(diversity_aggregate)\n",
        "    self._inclusion_agg_fn = _to_aggregator_fn(inclusion_aggregate)\n",
        "    self._set_diversity_agg_fn = _to_aggregator_fn(set_diversity_aggregate)\n",
        "    self._set_inclusion_agg_fn = _to_aggregator_fn(set_inclusion_aggregate)\n",
        "\n",
        "  def combine(self, diversity_scores, inclusion_scores, aggregation_level,\n",
        "              verbose_output):\n",
        "    \"\"\"Combines raw diversity and inclusion scores for an image or image set.\n",
        "\n",
        "    More specifically, this aggregates diversity and inclusion scores from an\n",
        "    input image and computes a weighted average of those aggregates.\n",
        "\n",
        "    The method for computing these aggregates, as well as the relative weights\n",
        "    for diversity and inclusion scores, are set when we construct a Combiner.\n",
        "\n",
        "    Args:\n",
        "      diversity_scores: Dictionary mapping diversity subscore names to values.\n",
        "      inclusion_scores: Dictionary mapping inclusion subscore names to values.\n",
        "      aggregation_level: What we are combining across, either 'image' or 'set'.\n",
        "      verbose_output: Whether or not to log all of the computation steps.\n",
        "\n",
        "    Returns:\n",
        "      A single aggregated score for the image or image set, float.\n",
        "    \"\"\"\n",
        "\n",
        "    # Normalize weights so they sum to 1.\n",
        "    self._normalize_weights()\n",
        "\n",
        "    # Aggregate per-attribute diversity subscores into per-image scores.\n",
        "    image_diversity_score = self.aggregate_scores(\n",
        "        diversity_scores,\n",
        "        diversity_or_inclusion='diversity',\n",
        "        aggregation_level=aggregation_level,\n",
        "        verbose_output=verbose_output)\n",
        "    # Aggregate per-attribute inclusion subscores into per-image scores.\n",
        "    image_inclusion_score = self.aggregate_scores(\n",
        "        inclusion_scores,\n",
        "        diversity_or_inclusion='inclusion',\n",
        "        aggregation_level=aggregation_level,\n",
        "        verbose_output=verbose_output)\n",
        "    # Calculate the actual weighted average.\n",
        "    score = ((self.diversity_weight * image_diversity_score) +\n",
        "             (self.inclusion_weight * image_inclusion_score))\n",
        "\n",
        "    if verbose_output:\n",
        "      print()\n",
        "      print('Combining diversity and inclusion scores at the %s level:' %\n",
        "            aggregation_level)\n",
        "      print('     %s * %s +' %\n",
        "            (self.diversity_weight, np.around(image_diversity_score, 3)))\n",
        "      print('     %s * %s =\\n' %\n",
        "            (self.inclusion_weight, np.around(image_inclusion_score, 3)))\n",
        "\n",
        "      print('     -------------------')\n",
        "      print('    | Final score:  %s |' % np.around(score, 3))\n",
        "      print('     -------------------')\n",
        "\n",
        "    return score\n",
        "\n",
        "  def _get_aggregator_and_name(self, diversity_or_inclusion, aggregation_level):\n",
        "    \"\"\"Returns specified aggregation function function and name.\"\"\"\n",
        "\n",
        "    if diversity_or_inclusion == 'diversity':\n",
        "      if aggregation_level == 'set':\n",
        "        return self.set_diversity_aggregate_name, self._set_diversity_agg_fn\n",
        "      elif aggregation_level == 'image':\n",
        "        return self.diversity_aggregate_name, self._diversity_agg_fn\n",
        "\n",
        "    elif diversity_or_inclusion == 'inclusion':\n",
        "      if aggregation_level == 'set':\n",
        "        return self.set_inclusion_aggregate_name, self._set_inclusion_agg_fn\n",
        "      elif aggregation_level == 'image':\n",
        "        return self.inclusion_aggregate_name, self._inclusion_agg_fn\n",
        "\n",
        "    raise ValueError('No aggregator specified for %s, %s' %\n",
        "                     (diversity_or_inclusion, aggregation_level))\n",
        "\n",
        "  def aggregate_scores(self,\n",
        "                       scores,\n",
        "                       diversity_or_inclusion=None,\n",
        "                       aggregation_level=None,\n",
        "                       verbose_output=False):\n",
        "    \"\"\"Aggregate all scores using aggretation fn.\n",
        "\n",
        "    Args:\n",
        "      scores: Dictionary mapping subscore name to subscore value.\n",
        "      diversity_or_inclusion: Which score you're aggregating (e.g. 'diversity').\n",
        "      aggregation_level: Level at which you're aggregating (e.g. 'set', 'image')\n",
        "      verbose_output: Whether or not to log all of the computation steps.\n",
        "\n",
        "    Returns:\n",
        "      Aggregated score, float.\n",
        "    \"\"\"\n",
        "\n",
        "    aggregation_fn_name, aggregation_fn = self._get_aggregator_and_name(\n",
        "        diversity_or_inclusion, aggregation_level)\n",
        "\n",
        "    total = aggregation_fn(scores)\n",
        "    if verbose_output:\n",
        "      print()\n",
        "      print('Aggregating %s-level %s scores with method: %s' %\n",
        "            (aggregation_level, diversity_or_inclusion, aggregation_fn_name))\n",
        "      print('--> Net %s-level %s score: %s' %\n",
        "            (aggregation_level, diversity_or_inclusion, np.around(total, 3)))\n",
        "    return total\n",
        "\n",
        "  def aggregate_diversity_scores(self, diversity_scores, verbose_output=False):\n",
        "    return self.aggregate_scores(\n",
        "        diversity_scores,\n",
        "        diversity_or_inclusion='diversity',\n",
        "        aggregation_level='image',\n",
        "        verbose_output=verbose_output)\n",
        "\n",
        "  def aggregate_inclusion_scores(self, inclusion_scores, verbose_output=False):\n",
        "    return self.aggregate_scores(\n",
        "        inclusion_scores,\n",
        "        diversity_or_inclusion='inclusion',\n",
        "        aggregation_level='image',\n",
        "        verbose_output=verbose_output)\n",
        "\n",
        "  def _normalize_weights(self):\n",
        "    if not self.inclusion_weight:\n",
        "      if (self.diversity_weight < 0.0 or self.diversity_weight > 1.0):\n",
        "        raise ValueError(\n",
        "            'Weights should be between 0 and 1 if only one is specified')\n",
        "      self.inclusion_weight = np.around(1.0 - self.diversity_weight, 3)\n",
        "    else:\n",
        "      total = sum([self.diversity_weight, self.inclusion_weight])\n",
        "      self.diversity_weight = self.diversity_weight / total\n",
        "      self.inclusion_weight = self.inclusion_weight / total\n",
        "\n",
        "\n",
        "def _to_integer_boolean(input_dict):\n",
        "  \"\"\"Replaces each value in a dict with a 1 if it is truthy, 0 otherwise.\n",
        "\n",
        "  This is useful for converting counts to simple presence/absence of a property.\n",
        "\n",
        "  Args:\n",
        "    input_dict: An arbitrary dictionary.\n",
        "\n",
        "  Returns:\n",
        "    A dictionary mapping each input key to either 1 or 0.\n",
        "  \"\"\"\n",
        "  return {key: int(bool(value)) for key, value in input_dict.items()}\n",
        "\n",
        "\n",
        "class DiversityFn(object):\n",
        "  \"\"\"A function that computes diversity subscores for an EntityImage.\"\"\"\n",
        "\n",
        "  def __init__(self,\n",
        "               aggregate_method='average',\n",
        "               count_or_binary='binary',\n",
        "               verbose_output=False):\n",
        "    self.aggregate_method = aggregate_method\n",
        "\n",
        "    # Whether or not to take into account the number of instances of a property\n",
        "    # or simply take into account whether or not the property was present at\n",
        "    # all.\n",
        "    self.count_or_binary = count_or_binary\n",
        "    self._agg_fn = _to_aggregator_fn(aggregate_method)\n",
        "    self._verbose_output = verbose_output\n",
        "\n",
        "  def score_image(self, image, verbose_output=None):\n",
        "    \"\"\"Computes all diversity subscores for an image.\n",
        "\n",
        "    Args:\n",
        "      image: An EntityImage.\n",
        "      verbose_output: Whether or not to print out computation steps.\n",
        "\n",
        "    Returns:\n",
        "      Dictionary mapping subscore names to values.\n",
        "    \"\"\"\n",
        "    # Allow overriding default verbosity\n",
        "    if verbose_output is not None:\n",
        "      self._verbose_output = verbose_output\n",
        "\n",
        "    if self._verbose_output:\n",
        "      print('\\n===================================')\n",
        "      print('Diversity subscores (single image):')\n",
        "      print('===================================\\n')\n",
        "      print('  - Aggregating scores across entities in image using method: %s' %\n",
        "            self.aggregate_method)\n",
        "      print('  - Using counts or simple binary presence/absence? %s' %\n",
        "            self.count_or_binary)\n",
        "\n",
        "    scores = self._get_scores(image)\n",
        "\n",
        "    if self._verbose_output:\n",
        "      if len(image.entities) == 1:\n",
        "        print('Note: this image contains a single entity, so diversity is '\n",
        "              'low by definition.')\n",
        "    return scores\n",
        "\n",
        "  def _get_scores(self, image):\n",
        "    \"\"\"Gets property-level scores for a single image.\n",
        "\n",
        "    Args:\n",
        "      image: An EntityImage containing one or more Entities\n",
        "\n",
        "    Returns:\n",
        "      Dictionary mapping subscore names to values.\n",
        "    \"\"\"\n",
        "    output_string = ''\n",
        "\n",
        "    # Compute presence vectors as well as a dictionary mapping the property\n",
        "    # to a debug string, constructed when vector was being computed. This stores\n",
        "    # the specific enum value counts (e.g. Color.BLUE : 2), which are not\n",
        "    # preserved in the presence vectors (e.g. [0, 2, 0]) themselves.\n",
        "    presence_vectors, presence_string_dict = self._get_presence_vectors(image)\n",
        "\n",
        "    # Filter into a dictionary with 1s if property was present and 0s otherwise.\n",
        "    if self.count_or_binary == 'binary':\n",
        "      presence_vectors = {\n",
        "          key: _to_integer_boolean(value)\n",
        "          for key, value in presence_vectors.items()\n",
        "      }\n",
        "\n",
        "    # Aggregate the per-enum-category vectors.\n",
        "    aggregated = {\n",
        "        key: self._agg_fn(presence_vector)\n",
        "        for key, presence_vector in presence_vectors.items()\n",
        "    }\n",
        "\n",
        "    # Generate output string for verbose output.\n",
        "    for key, agg_score in aggregated.items():\n",
        "      # String generated when we were calculating presence/absences scores\n",
        "      presence_string = presence_string_dict[key]\n",
        "      output_string += '\\n   Which of the possible %ss are present?' % key\n",
        "      output_string += '\\n   --> %s subscore: %s' % (key, np.round(\n",
        "          agg_score, 3))\n",
        "      output_string += presence_string\n",
        "      if self.count_or_binary == 'binary':\n",
        "        if self.aggregate_method == 'average':\n",
        "          output_string += ('\\n           %s %ss represented / %s total '\n",
        "                            'categories') % (\n",
        "                                str(sum(presence_vectors[key].values())), key,\n",
        "                                str(len(presence_vectors[key].values())))\n",
        "        output_string += '\\n           %s (binary vector): %s\\n' % (\n",
        "            self.aggregate_method, np.round(agg_score, 3))\n",
        "      else:\n",
        "        output_string += '\\n           %s: %s\\n' % (self.aggregate_method,\n",
        "                                                    np.round(agg_score, 3))\n",
        "\n",
        "    if self._verbose_output:\n",
        "      print(output_string)\n",
        "\n",
        "    return aggregated\n",
        "\n",
        "  def _get_presence_vectors(self, image):\n",
        "    \"\"\"Gets vectors indicating presence/absence of properties in an image.\n",
        "\n",
        "    Args:\n",
        "      image: An EntityImage.\n",
        "\n",
        "    Returns:\n",
        "      A nested dictionary, where they keys are property names\n",
        "      (e.g. age) and the values are dictionaries mapping all values of that\n",
        "      property (e.g. Age.RANGE_18_24) to the number of entities with that\n",
        "      property in each image.\n",
        "    \"\"\"\n",
        "\n",
        "    output_string_dict = dict()\n",
        "\n",
        "    # Establish a set of all properties _any_ entities has, as well\n",
        "    # as all possible values for that enum. E.g. if any entity has property\n",
        "    # 'age', all_properties should contain the mapping:\n",
        "    # { 'age' : {<Age.UNKNOWN: 0>, <Age.RANGE_18_24: 2> ...} }\n",
        "    all_properties = dict()\n",
        "\n",
        "    # Dict mapping property name to all properties present in the image.\n",
        "    present_properties = collections.defaultdict(list)\n",
        "\n",
        "    for person in image.entities:\n",
        "      for name, value in person.properties.items():\n",
        "        # Overwrite each time, these are small and it's convenient.\n",
        "        all_properties[name] = get_enum_values(type(value))\n",
        "        present_properties[name].append(value)\n",
        "\n",
        "    # Count occurrences of each value for each property.\n",
        "    to_return = {}\n",
        "    for property_name, all_enum_values in all_properties.items():\n",
        "      output_string_dict[property_name] = ''\n",
        "      presences = {}\n",
        "      for enum_value in all_enum_values:\n",
        "        output_string_dict[property_name] += '\\n           %s: %s' % (\n",
        "            enum_value, present_properties[property_name].count(enum_value))\n",
        "        presences[enum_value] = present_properties[property_name].count(\n",
        "            enum_value)\n",
        "      to_return[property_name] = presences\n",
        "\n",
        "    return to_return, output_string_dict\n",
        "\n",
        "\n",
        "class InclusionFn(object):\n",
        "  \"\"\"A function that computes inclusion subscores for an EntityImage.\"\"\"\n",
        "\n",
        "  def __init__(self, aggregate_method='max', verbose_output=False):\n",
        "    \"\"\"Initializes InclusionFn.\n",
        "\n",
        "    Args:\n",
        "      aggregate_method: Method of combining scores of entities within an image.\n",
        "      verbose_output: Whether or not to log all of the computation steps.\n",
        "\n",
        "    Returns:\n",
        "      Initialized InclusionFn.\n",
        "    \"\"\"\n",
        "    self.aggregate_method = aggregate_method\n",
        "    self._agg_fn = _to_aggregator_fn(aggregate_method)\n",
        "    self._verbose_output = verbose_output\n",
        "    assert _CLOSENESS_PROPERTIES is not None\n",
        "    assert _MATCH_PROPERTIES is not None\n",
        "\n",
        "  def score_image(self, viewer, image, query='', verbose_output=None):\n",
        "    \"\"\"Scores an input image.\n",
        "\n",
        "    Args:\n",
        "      viewer: An Entity representing the entity making a query.\n",
        "      image: An EntityImage.\n",
        "      query: A viewer's query related to the EntityImage.\n",
        "      verbose_output: Whether or not to print out computation steps.\n",
        "\n",
        "    Returns:\n",
        "      A dictionary mapping inclusion subscore names to values.\n",
        "    \"\"\"\n",
        "\n",
        "    # TODO(dylanbaker): Implement query relevance scoring. At minimum, this\n",
        "    # requires EntityImages or Entities having some way of denoting their\n",
        "    # subject.\n",
        "    # logging.warning('Query %s is unused', query)\n",
        "\n",
        "    # Allow verbose_output to be overridden here; otherwise, defualt\n",
        "    # to initial state.\n",
        "    if verbose_output is None:\n",
        "      verbose_output = self._verbose_output\n",
        "    if verbose_output:\n",
        "      print('\\n===================================')\n",
        "      print('Inclusion subscores (single image)')\n",
        "      print('===================================\\n')\n",
        "      print('  - Using aggregation method: %s\\n' % self.aggregate_method)\n",
        "\n",
        "    subscores = {}\n",
        "    if not image.entities:\n",
        "      logging.warning('No entities to score.')\n",
        "      return {}\n",
        "\n",
        "    all_property_names = [\n",
        "        type(value) for value in list(image.entities[0].properties.values())\n",
        "    ]\n",
        "\n",
        "    for property_name in all_property_names:\n",
        "      if str(property_name) in _CLOSENESS_PROPERTIES:\n",
        "        subscores[property_name] = self._compute_closeness(\n",
        "            viewer, image, property_name, verbose_output)\n",
        "      elif str(property_name) in _MATCH_PROPERTIES:\n",
        "        subscores[property_name] = self._compute_match(viewer, image,\n",
        "                                                       property_name,\n",
        "                                                       verbose_output)\n",
        "      else:\n",
        "        raise ValueError(\n",
        "            'Unsure how to calculate inclusion score for property:',\n",
        "            property_name)\n",
        "    return subscores\n",
        "\n",
        "  def _compute_closeness(self, viewer, image, property_name, verbose_output):\n",
        "    \"\"\"Compute the closeness score between bucketed properties.\n",
        "\n",
        "    This assumes enum values that are close to one another are more similar\n",
        "    (e.g. age buckets, skin type buckets)\n",
        "\n",
        "    Returns a score in [0, 1], with 1 indicating the same property and 0\n",
        "    being as far apart as possible.\n",
        "\n",
        "    Args:\n",
        "      viewer: An Entity representing the entity making a query.\n",
        "      image: An EntityImage.\n",
        "      property_name: Which property we're computing the closeness of.\n",
        "      verbose_output: Whether or not to print out computation steps.\n",
        "\n",
        "    Returns:\n",
        "      A closeness score, float.\n",
        "    \"\"\"\n",
        "    output_string = '   Does anyone have a similar %s to mine? (%s)\\n' % (\n",
        "        property_name, viewer.properties[property_name].name)\n",
        "    output_string += '   --> bucketed {label} closeness subscore: %s'.format(\n",
        "        label=property_name)\n",
        "    per_entity_scores = {}\n",
        "    for index, entity in enumerate(image.entities):\n",
        "      n_buckets = len(\n",
        "          # get_enum_values(type(entity.properties[property_name]))\n",
        "          get_enum_values(property_name))\n",
        "\n",
        "      per_entity_scores['entity_%d' %\n",
        "                        index] = (1.0 -\n",
        "                                  (abs(viewer.properties[property_name].value -\n",
        "                                       entity.properties[property_name].value) /\n",
        "                                   (n_buckets - 1)))\n",
        "    output_string += '\\n       per-entity scores: %s' % [\n",
        "        '%s = %s' % (name, np.around(value, 3))\n",
        "        for name, value in per_entity_scores.items()\n",
        "    ]\n",
        "\n",
        "    aggregate_score = self._agg_fn(per_entity_scores)\n",
        "    output_string += '\\n       %s: %s\\n' % (self.aggregate_method,\n",
        "                                            np.around(aggregate_score, 3))\n",
        "    if verbose_output:\n",
        "      print(output_string % np.around(aggregate_score, 3))\n",
        "\n",
        "    return aggregate_score\n",
        "\n",
        "  def _compute_match(self, viewer, image, property_name, verbose_output):\n",
        "    \"\"\"Computes a score based on whether or not two properties match.\n",
        "\n",
        "    This assumes enum values have no relation to each other\n",
        "    (e.g. geometric shapes).\n",
        "\n",
        "    Args:\n",
        "      viewer: An Entity representing the entity making a query.\n",
        "      image: An EntityImage.\n",
        "      property_name: Which property we're computing the matched-ness of.\n",
        "      verbose_output: Whether or not to print out computation steps.\n",
        "\n",
        "    Returns:\n",
        "      A match score, float.\n",
        "    \"\"\"\n",
        "    output_string = '   Does anyone have the same %s as me? (%s)\\n' % (\n",
        "        property_name, viewer.properties[property_name].name)\n",
        "    output_string += '   --> {label} match subscore: %s'.format(\n",
        "        label=property_name)\n",
        "\n",
        "    per_entity_scores = {}\n",
        "\n",
        "    for index, entity in enumerate(image.entities):\n",
        "      per_entity_scores['entity_%d' %\n",
        "                        index] = (1.0 if viewer.properties[property_name] ==\n",
        "                                  entity.properties[property_name] else 0.0)\n",
        "    output_string += '\\n       per-entity scores: %s' % [\n",
        "        '%s = %s' % (name, np.around(value, 3))\n",
        "        for name, value in per_entity_scores.items()\n",
        "    ]\n",
        "\n",
        "    aggregate_score = self._agg_fn(per_entity_scores)\n",
        "    output_string += '\\n        %s: %s\\n' % (self.aggregate_method,\n",
        "                                             np.around(aggregate_score, 3))\n",
        "    if verbose_output:\n",
        "      print(output_string % np.around(aggregate_score, 3))\n",
        "\n",
        "    return aggregate_score"
      ],
      "execution_count": null,
      "outputs": []
    },
    {
      "cell_type": "markdown",
      "metadata": {
        "id": "K4HeYAqmuuVx"
      },
      "source": [
        "# Diversity and Inclusion Metrics in Subset Selection\n",
        "\n",
        "When we hear the terms \"diversity\" and \"inclusion\", we often hear them grouped together and used in a very general way; maybe you've heard phrases like \"diversity and inclusion in the workplace\". When putting these terms into practice, however, it can be hard to pinpoint exactly what we _mean_ when we say \"diversity and inclusion\". Diverse with respect to what? Including whom?\n",
        " \n",
        "Often, the phrase \"diversity and inclusion\" is used to talk about improving the situations of excluded or marginalized people. For example, a prestigious university with very high tuition might find itself with a homogenous student population; only a narrow range of social groups have access to good high schools and enough money to pay tuition. The school might aim to “improve diversity” by offering scholarships to students outside of those social groups. In this case, the “diversity” that the scholarship is addressing is referring to “diversity with respect to wealth and resources”. Similarly, when thinking about “improving inclusion” for students at the school, it’s implicit that some students are disproportionately excluded in the first place.\n",
        " \n",
        "That is to say, “diversity” and “inclusion”, when acted out in the world, often have implications about social power and access.\n",
        " \n",
        "But what does that mean if you want to measure or compare the relative diversity and inclusion of things?\n",
        " \n",
        "We’re going to explore one way of answering that question using the example of **image subset selection**: that is, selecting some images from a larger set of images. We'll look at some different ways of **measuring which sets of images are the most diverse or inclusive,** taking into account some of these social components.\n",
        "\n"
      ]
    },
    {
      "cell_type": "markdown",
      "metadata": {
        "id": "E8wXo1ClO09p"
      },
      "source": [
        "# 1. Defining diversity and inclusion\n",
        "\n",
        "First, if we want to measure diversity or inclusion, we'll have to define them explicitly.\n",
        "\n"
      ]
    },
    {
      "cell_type": "markdown",
      "metadata": {
        "id": "EnSqK5z7zc8r"
      },
      "source": [
        "### Defining diversity\n",
        "\n",
        "Suppose we consider every entity in an image to be comprised of different attributes. We can score diversity by simply looking at how many different attributes are present in an image. We can also weigh attributes' relative importance to one another to take into account the fact that some attributes are more important than others in different contexts.\n",
        "\n",
        "In practice, it's critically important to consider _which_ attributes are chosen, by whom, and for what purpose. \n",
        "\n",
        "In this notebook, we'll start with with simple attributes: shapes and colors.\n",
        "\n",
        "(For a more rigorous definition of diversity, you may unfold the tab below)"
      ]
    },
    {
      "cell_type": "markdown",
      "metadata": {
        "id": "quH3R39RRPqZ"
      },
      "source": [
        "### Defining diversity (very specifically)"
      ]
    },
    {
      "cell_type": "markdown",
      "metadata": {
        "id": "SUSUG-h6WT32"
      },
      "source": [
        "**Presence Score**: An instance $x_q$ (e.g., a recommended\n",
        "movie in a set of movie recommendations) is composed of one or\n",
        "more items (e.g., actors, objects, and settings in the movie). Each\n",
        "item reflects or indexes different attributes.\n",
        "\n",
        "We define the presence score of an attribute a as a function\n",
        "quantifying how close the presence $a(x_q)$ is to the target and upper\n",
        "and lower bounds on the attribute’s presence:\n",
        "\n",
        "$$\\text{Presence}_a(x_q) = f(a(x_q),l_a,u_a)$$\n",
        "\n",
        "with higher values meaning a is more present in $x_q$.\n",
        "\n",
        "**Overall Diversity Score**: With the presence score defined, we can now\n",
        "define the diversity of an instance $x_q$ as an aggregate statistic of\n",
        "the attributes in the instance:\n",
        "\n",
        "$$\\text{Diversity}_a(x_q) = g(\\text{Presence}_a(x_q)), \\text{across } a \\in A$$\n",
        "where $g(·)$ can return the minimum, maximum, or average presence value\n",
        "of the attributes\n",
        "\n",
        "The Diversity family of metrics can highlight or prioritize diversity with respect to relevant social groups. For example:\n",
        "\n",
        "- Racial Diversity: many race groups $a \\in A$ present.\n",
        "- Gender Diversity: many gender groups $a \\in A$ present.\n",
        "- Age Diversity: many age groups $a \\in A$ present.\n",
        "\n"
      ]
    },
    {
      "cell_type": "markdown",
      "metadata": {
        "id": "fBHd6Vgig6QK"
      },
      "source": [
        "#### Set Diversity\n",
        "\n",
        " The formulation for an instance giving rise to a\n",
        "diversity score naturally extends to a set of instances giving rise to\n",
        "a diversity score. [...] We define the cumulative diversity score of a\n",
        "set $X_q$ as a function of $\\text{Diversity}_A(x_q))$ across $x_q \\in X_q$."
      ]
    },
    {
      "cell_type": "markdown",
      "metadata": {
        "id": "Ea14ACVGzi5A"
      },
      "source": [
        "### Defining Inclusivity\n",
        "\n",
        "When defining inclusivity, we also care about _who_ is being included and _how_ they are being included— we'll need some more context than just the content of the image itself when scoring its inclusivity. \n",
        "\n",
        "In this case, let's consider the case where somebody is searching for images containing people, such as \"doctor\" or \"engineers smiling\". Ideally, a person is included if their results are **useful to them** and the results **reflect conditions under which they feel included**. \n",
        "\n",
        "As above, suppose we consider every entity in an image to be comprised of different attributes. We can score the inclusivity of a result by looking at \n",
        "1. how relevant the image is to that query, and\n",
        "2. whether or not the individual making the query is represented in the image results.\n",
        "\n",
        "(For a more rigorous definition of inclusivity, you may unfold the tab below)\n"
      ]
    },
    {
      "cell_type": "markdown",
      "metadata": {
        "id": "y6k4Nya6cvti"
      },
      "source": [
        "### Defining inclusivity (very specifically)"
      ]
    },
    {
      "cell_type": "markdown",
      "metadata": {
        "id": "amngobc2G-PL"
      },
      "source": [
        "**Instance Inclusion**. As above, we assume an instance $x_q$ (e.g., an\n",
        "image) is composed of one or more items (e.g., different components\n",
        "of the image). Each item has some relevance to a query $q$ and may\n",
        "be a better or a worse fit for an individual $p$ along some attribute\n",
        "$a$. The inclusion of an instance $x_q$ aggregates the relevance and fit\n",
        "of all items in $x_q$ and produces a single measure of that instance’s\n",
        "ability to reflect $p$ or to meet $p$’s goals."
      ]
    },
    {
      "cell_type": "markdown",
      "metadata": {
        "id": "lOft1BoMzlO_"
      },
      "source": [
        "#### Set inclusivity\n",
        "\n",
        "(Or, how to aggregate across inclusion scores to get set-level inclusion.)"
      ]
    },
    {
      "cell_type": "markdown",
      "metadata": {
        "id": "ltNOmROfRr7F"
      },
      "source": [
        "**Nash inclusivity**: This corresponds to the geometric mean over the inclusion metric scores for all items in the set. Set $\\text{X}_1$ is more inclusive than $\\text{X}_2$ if the product of its inclusion metric scores is greater, i.e. \n",
        "\n",
        "$$\\sqrt[\\leftroot{-2}\\uproot{2}n]{\\prod\\limits_{i}{\\text{X}_{2i}}} < \\sqrt[\\leftroot{-2}\\uproot{2}n]{\\prod\\limits_{i}{\\text{X}_{1i}}}$$\n",
        "\n",
        "Nash inclusivity can be seen as a mix of utilitarian and egalitarian inclusivity, as it monotonically increases with both of these measures"
      ]
    },
    {
      "cell_type": "code",
      "metadata": {
        "id": "cdSKTpRQRsD5"
      },
      "source": [
        "def nash_score(subscores):\n",
        "  root = len(subscores)\n",
        "  return np.prod(subscores)**(1/root)"
      ],
      "execution_count": null,
      "outputs": []
    },
    {
      "cell_type": "markdown",
      "metadata": {
        "id": "DLLyhCDqUPf2"
      },
      "source": [
        "**Utilitarian inclusivity**: This corresponds to an arithmetic average over the inclusion scores for all items in the set, where a set $\\text{X}_1$ is\n",
        "more inclusive than $\\text{X}_2$ if the average of its inclusion metric scores is greater.\n",
        "\n",
        "$$\\frac{1}{n}\\sum\\limits_{i}{\\text{X}_{2i}} < \\frac{1}{n}\\sum\\limits_{i}{\\text{X}_{1i}}$$"
      ]
    },
    {
      "cell_type": "code",
      "metadata": {
        "id": "K5HgU1McUPmS"
      },
      "source": [
        "def utilitarian_score(subscores):\n",
        "  return sum(subscores)/len(subscores)"
      ],
      "execution_count": null,
      "outputs": []
    },
    {
      "cell_type": "markdown",
      "metadata": {
        "id": "f6thRakoU8ot"
      },
      "source": [
        "**Egalitarian (maximin) inclusivity**. Set $\\text{X}_1$ may be said to be more inclusive than set $\\text{X}_2$ if the lowest inclusion score in $\\text{X}_1$ is higher than the lowest inclusion score in $\\text{X}_2$, i.e., $\\min_i(\\text{X}_{1i})>\\min_i(\\text{X}_{2i})$. If $\\min_i(\\text{X}_{1i}) = \\min_i(\\text{X}_{2i})$, then repeat for the second lowest scores, third, and so on. If the two mechanisms are equal, we are indifferent between $\\text{X}_1$ and $\\text{X}_2$. "
      ]
    },
    {
      "cell_type": "code",
      "metadata": {
        "id": "PKj01VmQU8vR"
      },
      "source": [
        "def egalitarian_score(subscores):\n",
        "  return min(subscores)\n",
        "\n",
        "# We have a separate comparison function here because we need\n",
        "# all of the subscores for tiebreaking.\n",
        "def egalitarian_compare(subscores_a, subscores_b):\n",
        "  \"\"\"Returns 1 if subscores_a > subscores_b, 0 if they are equal, -1 otherwise.\"\"\"\n",
        "  if len(subscores_a) != len(subscores_b):\n",
        "    raise ValueError('Subscores must have the same length.')\n",
        "  print(subscores_a, subscores_b)\n",
        "  subscores_a.sort()\n",
        "  subscores_b.sort()\n",
        "  print(subscores_a, subscores_b)\n",
        "  for first_a, first_b in zip(subscores_a, subscores_b):\n",
        "    if first_a == first_b:\n",
        "      continue\n",
        "    else:\n",
        "      return 1 if first_a > first_b else -1\n",
        "  # Return 0 if they're the same.\n",
        "  return 0\n"
      ],
      "execution_count": null,
      "outputs": []
    },
    {
      "cell_type": "markdown",
      "metadata": {
        "id": "TQP_KvzzReoL"
      },
      "source": [
        "# 2. Shapes\n",
        "\n",
        "To test out these metrics, let's try them out on shapes first, using the example of making a query and getting some images.\n",
        "\n",
        " First, we'll want to define some **viewer**. This is the entity we want to be **included**.\n",
        "\n"
      ]
    },
    {
      "cell_type": "markdown",
      "metadata": {
        "id": "ujx0E3cIRiFo"
      },
      "source": [
        "### Define a viewer"
      ]
    },
    {
      "cell_type": "code",
      "metadata": {
        "id": "YPVOYKxiR884",
        "colab": {
          "base_uri": "https://localhost:8080/",
          "height": 232
        },
        "cellView": "form",
        "outputId": "3e97fe8b-287c-4332-fa5d-09572ce327ce"
      },
      "source": [
        "#@title  { run: \"auto\" }\n",
        "my_color = Color.BLUE #@param [\"Color.BLUE\", \"Color.RED\", \"Color.GREEN\"] {type:\"raw\"}\n",
        "my_shape = ShapeType.CIRCLE #@param [\"ShapeType.TRIANGLE\", \"ShapeType.SQUARE\", \"ShapeType.CIRCLE\"] {type:\"raw\"}\n",
        "my_size = Size.LARGE #@param [\"Size.SMALL\", \"Size.MEDIUM\", \"Size.LARGE\"] {type:\"raw\"}\n",
        "\n",
        "my_viewer = Entity(properties = {\n",
        "    Color:my_color,\n",
        "    Size:my_size,\n",
        "    ShapeType:my_shape,\n",
        "})\n",
        "\n",
        "# Display with a ShapeFetcher.\n",
        "ShapeFetcher([my_viewer], 'Viewer').fetch()"
      ],
      "execution_count": null,
      "outputs": [
        {
          "output_type": "display_data",
          "data": {
            "image/png": "[encoded data removed]",
            "text/plain": [
              "<Figure size 432x288 with 1 Axes>"
            ]
          },
          "metadata": {
            "tags": [],
            "needs_background": "light"
          }
        }
      ]
    },
    {
      "cell_type": "markdown",
      "metadata": {
        "id": "NvC_CDXYekB8"
      },
      "source": [
        "Now, let's say we're looking at some images of other shapes."
      ]
    },
    {
      "cell_type": "code",
      "metadata": {
        "id": "GVrGYPsITVfD",
        "colab": {
          "base_uri": "https://localhost:8080/",
          "height": 1000
        },
        "cellView": "form",
        "outputId": "d289f401-429a-4d92-b67c-399d15f8ca5c"
      },
      "source": [
        "#@title Some other shapes:\n",
        "\n",
        "\n",
        "circles = create_image_from_shapes([\n",
        "    Entity({\n",
        "        Color: Color.GREEN,\n",
        "        Size: Size.SMALL,\n",
        "        ShapeType: ShapeType.CIRCLE\n",
        "    }),\n",
        "    Entity({\n",
        "        Color: Color.BLUE,\n",
        "        Size: Size.SMALL,\n",
        "        ShapeType: ShapeType.CIRCLE\n",
        "    }),\n",
        "    Entity({\n",
        "        Color: Color.RED,\n",
        "        Size: Size.SMALL,\n",
        "        ShapeType: ShapeType.CIRCLE\n",
        "    })\n",
        "], title='Small circles')\n",
        "\n",
        "greens = create_image_from_shapes([\n",
        "    Entity({\n",
        "        Color: Color.GREEN,\n",
        "        Size: Size.SMALL,\n",
        "        ShapeType: ShapeType.CIRCLE\n",
        "    }),\n",
        "    Entity({\n",
        "        Color: Color.GREEN,\n",
        "        Size: Size.MEDIUM,\n",
        "        ShapeType: ShapeType.CIRCLE\n",
        "    }),\n",
        "    Entity({\n",
        "        Color: Color.GREEN,\n",
        "        Size: Size.LARGE,\n",
        "        ShapeType: ShapeType.TRIANGLE\n",
        "    })\n",
        "], title='Green shapes')\n",
        "\n",
        "bigs = create_image_from_shapes([\n",
        "    Entity({\n",
        "        Size: Size.LARGE,\n",
        "        Color: Color.RED,\n",
        "        ShapeType: ShapeType.CIRCLE\n",
        "    }),\n",
        "    Entity({\n",
        "        Size: Size.LARGE,\n",
        "        Color: Color.RED,\n",
        "        ShapeType: ShapeType.SQUARE\n",
        "    }),\n",
        "    Entity({\n",
        "        Size: Size.LARGE,\n",
        "        Color: Color.BLUE,\n",
        "        ShapeType: ShapeType.TRIANGLE\n",
        "    })\n",
        "], title='Big shapes')\n",
        "\n",
        "just_one = create_image_from_shapes([\n",
        "    Entity({\n",
        "        Size: Size.SMALL,\n",
        "        Color: Color.RED,\n",
        "        ShapeType: ShapeType.SQUARE\n",
        "    }),\n",
        "    \n",
        "], title='Just a small red square')\n",
        "\n",
        "diverse = create_image_from_shapes([\n",
        "    Entity({\n",
        "        Size: Size.LARGE,\n",
        "        Color: Color.RED,\n",
        "        ShapeType: ShapeType.CIRCLE\n",
        "    }),\n",
        "    Entity({\n",
        "        Size: Size.MEDIUM,\n",
        "        Color: Color.BLUE,\n",
        "        ShapeType: ShapeType.SQUARE\n",
        "    }),\n",
        "    Entity({\n",
        "        Size: Size.MEDIUM,\n",
        "        Color: Color.BLUE,\n",
        "        ShapeType: ShapeType.CIRCLE\n",
        "    }),\n",
        "    Entity({\n",
        "        Size: Size.SMALL,\n",
        "        Color: Color.RED,\n",
        "        ShapeType: ShapeType.TRIANGLE\n",
        "    }),\n",
        "    Entity({\n",
        "        Size: Size.SMALL,\n",
        "        Color: Color.GREEN,\n",
        "        ShapeType: ShapeType.TRIANGLE\n",
        "    }),\n",
        "    Entity({\n",
        "        Size: Size.SMALL,\n",
        "        Color: Color.GREEN,\n",
        "        ShapeType: ShapeType.SQUARE\n",
        "    })], title='Many shapes')\n",
        "\n",
        "diverse.show()\n",
        "just_one.show()\n",
        "circles.show()\n",
        "greens.show()\n",
        "bigs.show()"
      ],
      "execution_count": null,
      "outputs": [
        {
          "output_type": "display_data",
          "data": {
            "image/png": "[encoded data removed]",
            "text/plain": [
              "<Figure size 432x288 with 1 Axes>"
            ]
          },
          "metadata": {
            "tags": [],
            "needs_background": "light"
          }
        },
        {
          "output_type": "display_data",
          "data": {
            "image/png": "[encoded data removed]",
            "text/plain": [
              "<Figure size 432x288 with 1 Axes>"
            ]
          },
          "metadata": {
            "tags": [],
            "needs_background": "light"
          }
        },
        {
          "output_type": "display_data",
          "data": {
            "image/png": "[encoded data removed]",
            "text/plain": [
              "<Figure size 432x288 with 1 Axes>"
            ]
          },
          "metadata": {
            "tags": [],
            "needs_background": "light"
          }
        },
        {
          "output_type": "display_data",
          "data": {
            "image/png": "[encoded data removed]",
            "text/plain": [
              "<Figure size 432x288 with 1 Axes>"
            ]
          },
          "metadata": {
            "tags": [],
            "needs_background": "light"
          }
        },
        {
          "output_type": "display_data",
          "data": {
            "image/png": "[encoded data removed]",
            "text/plain": [
              "<Figure size 432x288 with 1 Axes>"
            ]
          },
          "metadata": {
            "tags": [],
            "needs_background": "light"
          }
        }
      ]
    },
    {
      "cell_type": "markdown",
      "metadata": {
        "id": "bykihXc8UhND"
      },
      "source": [
        "Just looking at it, it seems like some of these groups are more **diverse** than others. Some contain all different sizes, shapes, and colors; some look mostly the same.\n",
        "\n",
        "For example, the `Green shapes` image has a pretty low color diversity (they're all green), a medium amount of shape diversity (2 of the 3 shapes are represented), and lots of size diversity (all three sizes—small, medium, and large—are represented).\n",
        "\n",
        "What happens if we try and quantify that?\n",
        "\n",
        "Run the cell below to see one way of doing it:\n",
        "\n",
        "\n",
        "\n"
      ]
    },
    {
      "cell_type": "code",
      "metadata": {
        "id": "6kZ0Ez1aUvoT",
        "colab": {
          "base_uri": "https://localhost:8080/",
          "height": 793
        },
        "cellView": "form",
        "outputId": "89b2ec96-d43c-42cb-e4f2-16a7d19724b5"
      },
      "source": [
        "#@title Try out a simple diversity scoring function:\n",
        "simple_diversity = DiversityFn(\n",
        "    aggregate_method='average', \n",
        "    count_or_binary='binary', \n",
        "    verbose_output=True)\n",
        "greens.show()\n",
        "subscores = simple_diversity.score_image(greens)\n",
        "print()"
      ],
      "execution_count": null,
      "outputs": [
        {
          "output_type": "display_data",
          "data": {
            "image/png": "[encoded data removed]",
            "text/plain": [
              "<Figure size 432x288 with 1 Axes>"
            ]
          },
          "metadata": {
            "tags": [],
            "needs_background": "light"
          }
        },
        {
          "output_type": "stream",
          "text": [
            "\n",
            "===================================\n",
            "Diversity subscores (single image):\n",
            "===================================\n",
            "\n",
            "  - Aggregating scores across entities in image using method: average\n",
            "  - Using counts or simple binary presence/absence? binary\n",
            "\n",
            "   Which of the possible <enum 'Color'>s are present?\n",
            "   --> <enum 'Color'> subscore: 0.333\n",
            "           Color.RED: 0\n",
            "           Color.BLUE: 0\n",
            "           Color.GREEN: 3\n",
            "           1 <enum 'Color'>s represented / 3 total categories\n",
            "           average (binary vector): 0.333\n",
            "\n",
            "   Which of the possible <enum 'Size'>s are present?\n",
            "   --> <enum 'Size'> subscore: 1.0\n",
            "           Size.MEDIUM: 1\n",
            "           Size.SMALL: 1\n",
            "           Size.LARGE: 1\n",
            "           3 <enum 'Size'>s represented / 3 total categories\n",
            "           average (binary vector): 1.0\n",
            "\n",
            "   Which of the possible <enum 'ShapeType'>s are present?\n",
            "   --> <enum 'ShapeType'> subscore: 0.667\n",
            "           ShapeType.TRIANGLE: 1\n",
            "           ShapeType.CIRCLE: 2\n",
            "           ShapeType.SQUARE: 0\n",
            "           2 <enum 'ShapeType'>s represented / 3 total categories\n",
            "           average (binary vector): 0.667\n",
            "\n",
            "\n"
          ],
          "name": "stdout"
        }
      ]
    },
    {
      "cell_type": "markdown",
      "metadata": {
        "id": "S3tNEjB5Y3rt"
      },
      "source": [
        "We'll play around with those parameters more later.\n",
        "\n",
        "Now, let's take the **viewer** into account. Looking at all of the groups of shapes, what would it mean for a group to be **inclusive** of shapes like you?\n",
        "\n",
        "One way of thinking of it might be saying, \"that group is inclusive because it has shapes that **look kind of like me**\". \n",
        "\n",
        "In this framework, you might find a group inclusive even if there's no shape in the group that looks _exactly_ like you, as long as it contains shapes that have your same color, size, or shape.\n",
        "\n",
        "Just like diversity, we can think of being inclusive with respect to different **attributes**.\n",
        "\n",
        "Let's see one way of quantifying that:\n"
      ]
    },
    {
      "cell_type": "code",
      "metadata": {
        "id": "3JaznaLwdhlj",
        "colab": {
          "base_uri": "https://localhost:8080/",
          "height": 623
        },
        "cellView": "form",
        "outputId": "21bec593-6871-4dbf-b55d-e0fa29da6dda"
      },
      "source": [
        "#@title Example inclusion score:\n",
        "simple_inclusion = inclusion_fn = InclusionFn(\n",
        "    # How to aggregate across *entities* in an image\n",
        "    aggregate_method='max', \n",
        "    verbose_output=True)\n",
        "\n",
        "greens.show()\n",
        "simple_inclusion.score_image(my_viewer, greens)\n",
        "print()"
      ],
      "execution_count": null,
      "outputs": [
        {
          "output_type": "display_data",
          "data": {
            "image/png": "[encoded data removed]",
            "text/plain": [
              "<Figure size 432x288 with 1 Axes>"
            ]
          },
          "metadata": {
            "tags": [],
            "needs_background": "light"
          }
        },
        {
          "output_type": "stream",
          "text": [
            "\n",
            "===================================\n",
            "Inclusion subscores (single image)\n",
            "===================================\n",
            "\n",
            "  - Using aggregation method: max\n",
            "\n",
            "   Does anyone have the same <enum 'Color'> as me? (BLUE)\n",
            "   --> <enum 'Color'> match subscore: 0.0\n",
            "       per-entity scores: ['entity_0 = 0.0', 'entity_1 = 0.0', 'entity_2 = 0.0']\n",
            "        max: 0.0\n",
            "\n",
            "   Does anyone have a similar <enum 'Size'> to mine? (LARGE)\n",
            "   --> bucketed <enum 'Size'> closeness subscore: 1.0\n",
            "       per-entity scores: ['entity_0 = 1.0', 'entity_1 = 0.0', 'entity_2 = 0.5']\n",
            "       max: 1.0\n",
            "\n",
            "   Does anyone have the same <enum 'ShapeType'> as me? (CIRCLE)\n",
            "   --> <enum 'ShapeType'> match subscore: 1.0\n",
            "       per-entity scores: ['entity_0 = 0.0', 'entity_1 = 1.0', 'entity_2 = 1.0']\n",
            "        max: 1.0\n",
            "\n",
            "\n"
          ],
          "name": "stdout"
        }
      ]
    },
    {
      "cell_type": "markdown",
      "metadata": {
        "id": "39CDUCE0JuKg"
      },
      "source": [
        "### Single image score"
      ]
    },
    {
      "cell_type": "markdown",
      "metadata": {
        "id": "Y3Yxaz6jeQbB"
      },
      "source": [
        "Suppose now you want to find a the group of shapes that's most **diverse** and **inclusive of you**. To compare all the different groups, you'll want to boil everything down to **one score** that summarizes everything. (So, a higher score will indicate the more diverse & inclusive group, and a lower score will indicate a less diverse & inclusive group.)\n",
        "\n",
        " To get just one score, you'll have to decide on a few things:\n",
        " \n",
        "1.   How do you want to combine all of the different diversity and inclusion subscores for each group? For example, how important is shape diversity vs. color diversity vs. size diversity?\n",
        "2.   How do you want to weigh diversity vs. inclusion overall?\n",
        "\n",
        "There are lots of different options here, and they can all communicate different things. For example, if you chose to combine all of the diversity subscores by taking their minimum, it communicates that a group is only as diverse as its least-diverse quality.\n",
        "\n",
        "Try some out!"
      ]
    },
    {
      "cell_type": "code",
      "metadata": {
        "id": "39aVm9jSmTpv",
        "cellView": "form"
      },
      "source": [
        "#@title How should diversity subscores be computed? { run: \"auto\" }\n",
        "diversity_subscore_type = \"weighted\" #@param [\"weighted\", \"egalitarian\", \"utilitarian\", \"nash\", \"min\", \"max\", \"average\"]"
      ],
      "execution_count": null,
      "outputs": []
    },
    {
      "cell_type": "code",
      "metadata": {
        "id": "SvESFpx28ZfR",
        "colab": {
          "base_uri": "https://localhost:8080/"
        },
        "cellView": "form",
        "outputId": "aae508b2-179b-4c4e-caae-2ca604bc1d52"
      },
      "source": [
        "#@title If weighted, how much should we weight each subscore?\n",
        "\n",
        "shape_weight = \"some\" #@param [\"a lot\", \"some\", \"a little\", \"none\"]\n",
        "color_weight =  \"a little\" #@param [\"a lot\", \"some\", \"a little\", \"none\"]\n",
        "size_weight =  \"a lot\" #@param [\"a lot\", \"some\", \"a little\", \"none\"]\n",
        "\n",
        "\n",
        "_to_weight = {\n",
        "    'a lot' : 1.0,\n",
        "    'some' : 0.5,\n",
        "    'a little' : 0.25,\n",
        "    'none' : 0.0\n",
        "}\n",
        "\n",
        "def parse_normalize_weights(weight_str_list):\n",
        "  total_value = 0\n",
        "  output_weights = []\n",
        "  for weight_str in weight_str_list:\n",
        "    output_weights.append(_to_weight[weight_str])\n",
        "  \n",
        "  return [np.around(weight/sum(output_weights), 3) for weight in output_weights]\n",
        "\n",
        "(shape_weight_value, \n",
        " color_weight_value, \n",
        " size_weight_value) = parse_normalize_weights([shape_weight, color_weight,  size_weight])\n",
        "  \n",
        "print('Normalized weights:\\n  shape: %s\\n'\n",
        "'  color: %s\\n'\n",
        "'  size: %s\\n' % (shape_weight_value, \n",
        " color_weight_value, \n",
        " size_weight_value))\n",
        "\n",
        "\n",
        "print('Defined diversity scoring function')\n",
        "\n",
        "# If we're weighting different components differently, aggregate_method\n",
        "# expects a dictionary mapping attributes to weights. Otherwise, it will look up\n",
        "# the appropriate aggregation method using its name (e.g. 'nash').\n",
        "diversity_subscorer = None\n",
        "if diversity_subscore_type == 'weighted':\n",
        "  diversity_subscorer = {\n",
        "      ShapeType : shape_weight_value,\n",
        "      Color : color_weight_value,\n",
        "      Size : size_weight_value\n",
        "  }\n",
        "else:\n",
        "  diversity_subscorer = diversity_subscore_type\n",
        "\n",
        "diversity_function = DiversityFn(\n",
        "    aggregate_method=diversity_subscorer, \n",
        "    verbose_output=True)\n"
      ],
      "execution_count": null,
      "outputs": [
        {
          "output_type": "stream",
          "text": [
            "Normalized weights:\n",
            "  shape: 0.286\n",
            "  color: 0.143\n",
            "  size: 0.571\n",
            "\n",
            "Defined diversity scoring function\n"
          ],
          "name": "stdout"
        }
      ]
    },
    {
      "cell_type": "code",
      "metadata": {
        "id": "9X2XOKETienZ",
        "colab": {
          "base_uri": "https://localhost:8080/"
        },
        "cellView": "form",
        "outputId": "590ee4d3-d644-4ea3-d2c0-2ddbb2f7e79a"
      },
      "source": [
        "#@title Set some scoring parameters! { run: \"auto\" }\n",
        "DIVERSITY_WEIGHT = 0.5 #@param {type:\"slider\", min:0, max:1, step:0.05}\n",
        "\n",
        "DIVERSITY_AGGREGATE_ACROSS_ENTITIES = \"average\"\n",
        "INCLUSION_AGGREGATE_ACROSS_ENTITIES = \"max\"\n",
        "DIVERSITY_AGGREGATE_SUBSCORES = \"min\" #@param [\"egalitarian\", \"utilitarian\", \"nash\", \"min\", \"max\", \"average\"]\n",
        "INCLUSION_AGGREGATE_SUBSCORES = \"nash\" #@param [\"egalitarian\", \"utilitarian\", \"nash\", \"min\", \"max\", \"average\"]\n",
        "\n",
        "shape_scorer = Scorer(my_viewer)\n",
        "\n",
        "shape_scorer.diversity_fn = DiversityFn(\n",
        "    # How to aggregate across entities in an image\n",
        "    aggregate_method=DIVERSITY_AGGREGATE_ACROSS_ENTITIES, \n",
        "    verbose_output=True)\n",
        "shape_scorer.inclusion_fn = InclusionFn(\n",
        "    # How to aggregate across entities in an image\n",
        "    aggregate_method=INCLUSION_AGGREGATE_ACROSS_ENTITIES, \n",
        "    verbose_output=True)\n",
        "\n",
        "combiner = Combiner(diversity_weight=DIVERSITY_WEIGHT, \n",
        "                    diversity_aggregate=DIVERSITY_AGGREGATE_SUBSCORES, \n",
        "                    inclusion_aggregate=INCLUSION_AGGREGATE_SUBSCORES)\n",
        "\n",
        "\n",
        "\n",
        "\n",
        "shape_scorer.combiner = combiner \n",
        "\n",
        "print('Weighting diversity score at %s, inclusion score at %s\\n' % (\n",
        "    combiner.diversity_weight, combiner.inclusion_weight))\n",
        "print('Using %s to aggregate inclusion subscores across entities in an image.' % combiner.inclusion_aggregate_name)\n",
        "print('Using %s to aggregate diversity subscores across entities in an image.' % combiner.diversity_aggregate_name)\n",
        "print('Using %s to aggregate different types of diversity scores for each entity.' % shape_scorer.diversity_fn.aggregate_method)\n",
        "print('Using %s to aggregate different types of inclusion scores for each entity.' % shape_scorer.inclusion_fn.aggregate_method)\n",
        "\n"
      ],
      "execution_count": null,
      "outputs": [
        {
          "output_type": "stream",
          "text": [
            "Weighting diversity score at 0.5, inclusion score at 0.5\n",
            "\n",
            "Using nash to aggregate inclusion subscores across entities in an image.\n",
            "Using min to aggregate diversity subscores across entities in an image.\n",
            "Using average to aggregate different types of diversity scores for each entity.\n",
            "Using max to aggregate different types of inclusion scores for each entity.\n"
          ],
          "name": "stdout"
        }
      ]
    },
    {
      "cell_type": "markdown",
      "metadata": {
        "id": "nkuNTasPkC7W"
      },
      "source": [
        "Let's try out this metric on some images!"
      ]
    },
    {
      "cell_type": "code",
      "metadata": {
        "id": "IGagt09bjK6w",
        "colab": {
          "base_uri": "https://localhost:8080/",
          "height": 1000
        },
        "outputId": "ad9af7ad-31d8-4844-9a20-26ff64472c64"
      },
      "source": [
        "shape_scorer.score_image(greens, verbose_output=True)"
      ],
      "execution_count": null,
      "outputs": [
        {
          "output_type": "stream",
          "text": [
            "\n",
            "===================\n",
            "===== Scoring =====\n",
            "===================\n",
            "\n"
          ],
          "name": "stdout"
        },
        {
          "output_type": "display_data",
          "data": {
            "image/png": "[encoded data removed]",
            "text/plain": [
              "<Figure size 432x288 with 1 Axes>"
            ]
          },
          "metadata": {
            "tags": [],
            "needs_background": "light"
          }
        },
        {
          "output_type": "stream",
          "text": [
            "<enum 'Color'>: Color.BLUE <enum 'Size'>: Size.LARGE <enum 'ShapeType'>: ShapeType.CIRCLE\n",
            "\n",
            "===================================\n",
            "Diversity subscores (single image):\n",
            "===================================\n",
            "\n",
            "  - Aggregating scores across entities in image using method: average\n",
            "  - Using counts or simple binary presence/absence? binary\n",
            "\n",
            "   Which of the possible <enum 'Color'>s are present?\n",
            "   --> <enum 'Color'> subscore: 0.333\n",
            "           Color.RED: 0\n",
            "           Color.BLUE: 0\n",
            "           Color.GREEN: 3\n",
            "           1 <enum 'Color'>s represented / 3 total categories\n",
            "           average (binary vector): 0.333\n",
            "\n",
            "   Which of the possible <enum 'Size'>s are present?\n",
            "   --> <enum 'Size'> subscore: 1.0\n",
            "           Size.MEDIUM: 1\n",
            "           Size.SMALL: 1\n",
            "           Size.LARGE: 1\n",
            "           3 <enum 'Size'>s represented / 3 total categories\n",
            "           average (binary vector): 1.0\n",
            "\n",
            "   Which of the possible <enum 'ShapeType'>s are present?\n",
            "   --> <enum 'ShapeType'> subscore: 0.667\n",
            "           ShapeType.TRIANGLE: 1\n",
            "           ShapeType.CIRCLE: 2\n",
            "           ShapeType.SQUARE: 0\n",
            "           2 <enum 'ShapeType'>s represented / 3 total categories\n",
            "           average (binary vector): 0.667\n",
            "\n",
            "\n",
            "===================================\n",
            "Inclusion subscores (single image)\n",
            "===================================\n",
            "\n",
            "  - Using aggregation method: max\n",
            "\n",
            "   Does anyone have the same <enum 'Color'> as me? (BLUE)\n",
            "   --> <enum 'Color'> match subscore: 0.0\n",
            "       per-entity scores: ['entity_0 = 0.0', 'entity_1 = 0.0', 'entity_2 = 0.0']\n",
            "        max: 0.0\n",
            "\n",
            "   Does anyone have a similar <enum 'Size'> to mine? (LARGE)\n",
            "   --> bucketed <enum 'Size'> closeness subscore: 1.0\n",
            "       per-entity scores: ['entity_0 = 0.5', 'entity_1 = 1.0', 'entity_2 = 0.0']\n",
            "       max: 1.0\n",
            "\n",
            "   Does anyone have the same <enum 'ShapeType'> as me? (CIRCLE)\n",
            "   --> <enum 'ShapeType'> match subscore: 1.0\n",
            "       per-entity scores: ['entity_0 = 1.0', 'entity_1 = 0.0', 'entity_2 = 1.0']\n",
            "        max: 1.0\n",
            "\n",
            "\n",
            "Aggregating image-level diversity scores with method: min\n",
            "--> Net image-level diversity score: 0.333\n",
            "\n",
            "Aggregating image-level inclusion scores with method: nash\n",
            "--> Net image-level inclusion score: 0.0\n",
            "\n",
            "Combining diversity and inclusion scores at the image level:\n",
            "     0.5 * 0.333 +\n",
            "     0.5 * 0.0 =\n",
            "\n",
            "     -------------------\n",
            "    | Final score:  0.167 |\n",
            "     -------------------\n"
          ],
          "name": "stdout"
        },
        {
          "output_type": "execute_result",
          "data": {
            "text/plain": [
              "0.16666666666666666"
            ]
          },
          "metadata": {
            "tags": []
          },
          "execution_count": 17
        }
      ]
    },
    {
      "cell_type": "code",
      "metadata": {
        "id": "7zm7RGZ0lQjs",
        "colab": {
          "base_uri": "https://localhost:8080/",
          "height": 1000
        },
        "outputId": "e9594adc-48dd-4b41-a445-00f21203cbd6"
      },
      "source": [
        "shape_scorer.score_image(diverse, verbose_output=True)"
      ],
      "execution_count": null,
      "outputs": [
        {
          "output_type": "stream",
          "text": [
            "\n",
            "===================\n",
            "===== Scoring =====\n",
            "===================\n",
            "\n"
          ],
          "name": "stdout"
        },
        {
          "output_type": "display_data",
          "data": {
            "image/png": "[encoded data removed]",
            "text/plain": [
              "<Figure size 432x288 with 1 Axes>"
            ]
          },
          "metadata": {
            "tags": [],
            "needs_background": "light"
          }
        },
        {
          "output_type": "stream",
          "text": [
            "<enum 'Color'>: Color.BLUE <enum 'Size'>: Size.LARGE <enum 'ShapeType'>: ShapeType.CIRCLE\n",
            "\n",
            "===================================\n",
            "Diversity subscores (single image):\n",
            "===================================\n",
            "\n",
            "  - Aggregating scores across entities in image using method: average\n",
            "  - Using counts or simple binary presence/absence? binary\n",
            "\n",
            "   Which of the possible <enum 'Size'>s are present?\n",
            "   --> <enum 'Size'> subscore: 1.0\n",
            "           Size.MEDIUM: 2\n",
            "           Size.SMALL: 3\n",
            "           Size.LARGE: 1\n",
            "           3 <enum 'Size'>s represented / 3 total categories\n",
            "           average (binary vector): 1.0\n",
            "\n",
            "   Which of the possible <enum 'Color'>s are present?\n",
            "   --> <enum 'Color'> subscore: 1.0\n",
            "           Color.RED: 2\n",
            "           Color.BLUE: 2\n",
            "           Color.GREEN: 2\n",
            "           3 <enum 'Color'>s represented / 3 total categories\n",
            "           average (binary vector): 1.0\n",
            "\n",
            "   Which of the possible <enum 'ShapeType'>s are present?\n",
            "   --> <enum 'ShapeType'> subscore: 1.0\n",
            "           ShapeType.TRIANGLE: 2\n",
            "           ShapeType.CIRCLE: 2\n",
            "           ShapeType.SQUARE: 2\n",
            "           3 <enum 'ShapeType'>s represented / 3 total categories\n",
            "           average (binary vector): 1.0\n",
            "\n",
            "\n",
            "===================================\n",
            "Inclusion subscores (single image)\n",
            "===================================\n",
            "\n",
            "  - Using aggregation method: max\n",
            "\n",
            "   Does anyone have a similar <enum 'Size'> to mine? (LARGE)\n",
            "   --> bucketed <enum 'Size'> closeness subscore: 1.0\n",
            "       per-entity scores: ['entity_0 = 0.5', 'entity_1 = 0.5', 'entity_2 = 0.0', 'entity_3 = 0.0', 'entity_4 = 1.0', 'entity_5 = 0.0']\n",
            "       max: 1.0\n",
            "\n",
            "   Does anyone have the same <enum 'Color'> as me? (BLUE)\n",
            "   --> <enum 'Color'> match subscore: 1.0\n",
            "       per-entity scores: ['entity_0 = 1.0', 'entity_1 = 1.0', 'entity_2 = 0.0', 'entity_3 = 0.0', 'entity_4 = 0.0', 'entity_5 = 0.0']\n",
            "        max: 1.0\n",
            "\n",
            "   Does anyone have the same <enum 'ShapeType'> as me? (CIRCLE)\n",
            "   --> <enum 'ShapeType'> match subscore: 1.0\n",
            "       per-entity scores: ['entity_0 = 0.0', 'entity_1 = 1.0', 'entity_2 = 0.0', 'entity_3 = 0.0', 'entity_4 = 1.0', 'entity_5 = 0.0']\n",
            "        max: 1.0\n",
            "\n",
            "\n",
            "Aggregating image-level diversity scores with method: min\n",
            "--> Net image-level diversity score: 1.0\n",
            "\n",
            "Aggregating image-level inclusion scores with method: nash\n",
            "--> Net image-level inclusion score: 1.0\n",
            "\n",
            "Combining diversity and inclusion scores at the image level:\n",
            "     0.5 * 1.0 +\n",
            "     0.5 * 1.0 =\n",
            "\n",
            "     -------------------\n",
            "    | Final score:  1.0 |\n",
            "     -------------------\n"
          ],
          "name": "stdout"
        },
        {
          "output_type": "execute_result",
          "data": {
            "text/plain": [
              "1.0"
            ]
          },
          "metadata": {
            "tags": []
          },
          "execution_count": 18
        }
      ]
    },
    {
      "cell_type": "markdown",
      "metadata": {
        "id": "t16FK2rslgZ0"
      },
      "source": [
        "Using these net scores, we can also rank our images!\n",
        "\n"
      ]
    },
    {
      "cell_type": "code",
      "metadata": {
        "id": "5GVIqas9lftA",
        "colab": {
          "base_uri": "https://localhost:8080/",
          "height": 1000
        },
        "outputId": "9afff7e8-3d50-4a52-9dc2-d62519e4b787"
      },
      "source": [
        "ranking = shape_scorer.rank_images(images=[greens, diverse, just_one, circles, bigs], \n",
        "                                   verbose_output=True)"
      ],
      "execution_count": null,
      "outputs": [
        {
          "output_type": "stream",
          "text": [
            "===================\n",
            "===== Ranking =====\n",
            "===================\n",
            "<enum 'Color'>: Color.BLUE <enum 'Size'>: Size.LARGE <enum 'ShapeType'>: ShapeType.CIRCLE\n",
            "Query: \n",
            "\n",
            "\n",
            "==== Ranking 1 [score: 1.0] ====\n"
          ],
          "name": "stdout"
        },
        {
          "output_type": "display_data",
          "data": {
            "image/png": "[encoded data removed]",
            "text/plain": [
              "<Figure size 432x288 with 1 Axes>"
            ]
          },
          "metadata": {
            "tags": [],
            "needs_background": "light"
          }
        },
        {
          "output_type": "stream",
          "text": [
            "\n",
            "\n",
            "==== Ranking 2 [score: 0.667] ====\n"
          ],
          "name": "stdout"
        },
        {
          "output_type": "display_data",
          "data": {
            "image/png": "[encoded data removed]",
            "text/plain": [
              "<Figure size 432x288 with 1 Axes>"
            ]
          },
          "metadata": {
            "tags": [],
            "needs_background": "light"
          }
        },
        {
          "output_type": "stream",
          "text": [
            "\n",
            "\n",
            "==== Ranking 3 [score: 0.167] ====\n"
          ],
          "name": "stdout"
        },
        {
          "output_type": "display_data",
          "data": {
            "image/png": "[encoded data removed]",
            "text/plain": [
              "<Figure size 432x288 with 1 Axes>"
            ]
          },
          "metadata": {
            "tags": [],
            "needs_background": "light"
          }
        },
        {
          "output_type": "stream",
          "text": [
            "\n",
            "\n",
            "==== Ranking 4 [score: 0.167] ====\n"
          ],
          "name": "stdout"
        },
        {
          "output_type": "display_data",
          "data": {
            "image/png": "[encoded data removed]",
            "text/plain": [
              "<Figure size 432x288 with 1 Axes>"
            ]
          },
          "metadata": {
            "tags": [],
            "needs_background": "light"
          }
        },
        {
          "output_type": "stream",
          "text": [
            "\n",
            "\n",
            "==== Ranking 5 [score: 0.167] ====\n"
          ],
          "name": "stdout"
        },
        {
          "output_type": "display_data",
          "data": {
            "image/png": "[encoded data removed]",
            "text/plain": [
              "<Figure size 432x288 with 1 Axes>"
            ]
          },
          "metadata": {
            "tags": [],
            "needs_background": "light"
          }
        },
        {
          "output_type": "stream",
          "text": [
            "\n",
            "\n"
          ],
          "name": "stdout"
        }
      ]
    },
    {
      "cell_type": "markdown",
      "metadata": {
        "id": "02CtBFm0ocX6"
      },
      "source": [
        "## Part II: People\n",
        "\n",
        "When we think about diversity and inclusion, we're often thinking about **social, personal, and cultural** layers as well. In a world of shapes and colors, the choice to prioritize diverse shapes over diverse colors is mostly arbitrary. But when thinking about diversifying images of people, **context matters**.\n",
        "\n",
        "What are we using these images for? Is it selecting images for a college brochure? Discovering new hairstyles? Searching for medical advice?\n",
        "\n",
        "What impact does an image set being \"more diverse\" or \"more inclusive\" have in this use case? Does representing many ages have the same impact of representing many gender presentations?\n",
        "\n"
      ]
    },
    {
      "cell_type": "markdown",
      "metadata": {
        "id": "wohvRKhKoEe2"
      },
      "source": [
        "### Toy example: a few images"
      ]
    },
    {
      "cell_type": "markdown",
      "metadata": {
        "id": "Jkd8ZiVOp70g"
      },
      "source": [
        "Supppose we're using the same ideas of inclusion and diversity as before, but now we're using it to rank images of people in an image retriever tool. \n",
        "\n",
        "We're going to keep things simple and evaluate diversity and inclusion with respect to a few coarse buckets: perceived **skin type\\***, **age**, and **gender presentation**. \n",
        "\n",
        "*This is using the [Fitzpatrick skin type scale](https://en.wikipedia.org/wiki/Fitzpatrick_scale), a scale used in dermatology that roughly corresponds to skin darkness.\n"
      ]
    },
    {
      "cell_type": "markdown",
      "metadata": {
        "id": "4mo3_xjNrQaI"
      },
      "source": [
        "NOTE: **The images below have been tagged for demonstration purposes only; we don't have ground-truth labels for gender, skin tone, or age for these images.**"
      ]
    },
    {
      "cell_type": "markdown",
      "metadata": {
        "id": "0zE5gAyV4ToR"
      },
      "source": [
        "First, enter the demographic information for the image viewer:"
      ]
    },
    {
      "cell_type": "code",
      "metadata": {
        "id": "xuDYPcBcoIS6",
        "colab": {
          "base_uri": "https://localhost:8080/"
        },
        "cellView": "form",
        "outputId": "19cca5df-56af-4639-fae9-d4f82f5b9c26"
      },
      "source": [
        "#@title Enter a viewer's demographics\n",
        "age =  30#@param {type:\"integer\"}\n",
        "skin_type = 2 #@param {type:\"slider\", min:1, max:6, step:1}\n",
        "gender_presentation = \"androgynous\"  #@param [\"masculine\", \"feminine\", \"androgynous\"]\n",
        "\n",
        "self_params = {\n",
        "    Age:age_to_enum(age),\n",
        "    SkinType:skin_type_to_enum(skin_type),\n",
        "    GenderPresentation:gender_to_enum(gender_presentation),\n",
        "}\n",
        "\n",
        "# me = Person(properties=self_params)\n",
        "me = Entity(self_params)\n",
        "scorer = Scorer(me) # Scoring is dependent on the viewer\n",
        "print(me)"
      ],
      "execution_count": null,
      "outputs": [
        {
          "output_type": "stream",
          "text": [
            "<enum 'Age'>: Age.RANGE_25_44 <enum 'SkinType'>: SkinType.TYPE_2 <enum 'GenderPresentation'>: GenderPresentation.ANDROGYNOUS\n"
          ],
          "name": "stdout"
        }
      ]
    },
    {
      "cell_type": "code",
      "metadata": {
        "id": "4DKH6g5zTanS",
        "colab": {
          "base_uri": "https://localhost:8080/",
          "height": 596
        },
        "cellView": "form",
        "outputId": "c1e46ea4-66d5-4b11-b4f8-da6d3d9f1db3"
      },
      "source": [
        "#@title Display our example images\n",
        "\n",
        "test_url_1 = 'http://t0.gstatic.com/images?q=tbn:ANd9GcRvV0wp1mj3YUtZBsVlueDvUt0I0UbL9nIgBoPdTPnOSIZ4UCqEHP1UC5J26ULLAxazBvVv7BUNME0iO1QzimdKicZalaI'\n",
        "test_url_2 = 'http://t1.gstatic.com/images?q=tbn:ANd9GcQrK6SD6AgFfZlJcdrHhcAzTQSpWmf87ZvAA8DsTOpzwg2SSiKk9VrmA5VhifqVbwt4SgP3B7cFdB8In6NKNs1Q7nAelpU'\n",
        "test_url_3 = 'https://media.gettyimages.com/photos/picture-id973089468'\n",
        "\n",
        "image_1_persons = [\n",
        "    Entity({\n",
        "        Age: age_to_enum(48),\n",
        "        SkinType: skin_type_to_enum(4),\n",
        "        GenderPresentation: gender_to_enum('masculine')\n",
        "    })\n",
        "]\n",
        "image_1_params = {'subjects': ['doctor']}\n",
        "\n",
        "image_2_persons = [\n",
        "    Entity({\n",
        "        Age: age_to_enum(33),\n",
        "        SkinType: skin_type_to_enum(5),\n",
        "        GenderPresentation: gender_to_enum('feminine')\n",
        "    })\n",
        "]\n",
        "image_2_params = {'subjects': ['doctor', 'smiling']}\n",
        "\n",
        "image_3_persons = [\n",
        "    Entity({\n",
        "        Age: age_to_enum(19),\n",
        "        SkinType: skin_type_to_enum(1),\n",
        "        GenderPresentation: gender_to_enum('feminine')\n",
        "    }),\n",
        "    Entity({\n",
        "        Age: age_to_enum(23),\n",
        "        SkinType: skin_type_to_enum(1),\n",
        "        GenderPresentation: gender_to_enum('masculine')\n",
        "    }),\n",
        "    Entity({\n",
        "        Age: age_to_enum(45),\n",
        "        SkinType: skin_type_to_enum(2),\n",
        "        GenderPresentation: gender_to_enum('feminine')\n",
        "    })\n",
        "]\n",
        "image_3_params = {\n",
        "    'subjects': ['computer_programmer', 'smiling']\n",
        "}\n",
        "\n",
        "image_1 = EntityImage(image_1_persons, PersonFetcher(test_url_1), image_1_params)\n",
        "image_2 = EntityImage(image_2_persons, PersonFetcher(test_url_2), image_2_params)\n",
        "image_3 = EntityImage(image_3_persons, PersonFetcher(test_url_3), image_3_params)\n",
        "\n",
        "\n",
        "image_1.show()\n",
        "image_2.show()\n",
        "image_3.show()"
      ],
      "execution_count": null,
      "outputs": [
        {
          "output_type": "display_data",
          "data": {
            "text/html": [
              "<img src=\"http://t0.gstatic.com/images?q=tbn:ANd9GcRvV0wp1mj3YUtZBsVlueDvUt0I0UbL9nIgBoPdTPnOSIZ4UCqEHP1UC5J26ULLAxazBvVv7BUNME0iO1QzimdKicZalaI\" width=200>"
            ],
            "text/plain": [
              "<IPython.core.display.HTML object>"
            ]
          },
          "metadata": {
            "tags": []
          }
        },
        {
          "output_type": "display_data",
          "data": {
            "text/html": [
              "<img src=\"http://t1.gstatic.com/images?q=tbn:ANd9GcQrK6SD6AgFfZlJcdrHhcAzTQSpWmf87ZvAA8DsTOpzwg2SSiKk9VrmA5VhifqVbwt4SgP3B7cFdB8In6NKNs1Q7nAelpU\" width=200>"
            ],
            "text/plain": [
              "<IPython.core.display.HTML object>"
            ]
          },
          "metadata": {
            "tags": []
          }
        },
        {
          "output_type": "display_data",
          "data": {
            "text/html": [
              "<img src=\"https://media.gettyimages.com/photos/picture-id973089468\" width=200>"
            ],
            "text/plain": [
              "<IPython.core.display.HTML object>"
            ]
          },
          "metadata": {
            "tags": []
          }
        }
      ]
    },
    {
      "cell_type": "markdown",
      "metadata": {
        "id": "WuV94V6PaSjl"
      },
      "source": [
        "Now we can set a bunch of parameters and see exactly how our net diversity and inclusion scores are calculated!"
      ]
    },
    {
      "cell_type": "code",
      "metadata": {
        "id": "H7qpL4gra9vh",
        "cellView": "form"
      },
      "source": [
        "#@title How much to weigh out overall diversity vs. inclusion score?\n",
        "DIVERSITY_VS_INCLUSION_WEIGHT = 0.45 #@param {type:\"slider\", min:0, max:1, step:0.05}\n"
      ],
      "execution_count": null,
      "outputs": []
    },
    {
      "cell_type": "code",
      "metadata": {
        "id": "pKYOn55FbQP2",
        "cellView": "form"
      },
      "source": [
        "#@title How should we aggregate the diversity scores across all people in an image? { run: \"auto\" }\n",
        "DIVERSITY_AGGREGATE_ACROSS_PEOPLE = \"average\" #@param [\"egalitarian\", \"utilitarian\", \"nash\", \"min\", \"max\", \"average\"]\n"
      ],
      "execution_count": null,
      "outputs": []
    },
    {
      "cell_type": "code",
      "metadata": {
        "id": "FY5Hy7I3b1QX",
        "cellView": "form"
      },
      "source": [
        "#@title How should we weigh the different components of our diversity scores? { run: \"auto\" }\n",
        "\n",
        "DIVERSITY_AGE_WEIGHT = 0.1 #@param {type:\"slider\", min:0, max:1, step:0.05}\n",
        "DIVERSITY_GENDER_PRESENTATION_WEIGHT = 0.4 #@param {type:\"slider\", min:0, max:1, step:0.05}\n",
        "DIVERSITY_SKIN_TYPE_WEIGHT = 0.4 #@param {type:\"slider\", min:0, max:1, step:0.05}\n",
        "\n",
        "DIVERSITY_AGGREGATE_SCORES = {Age : DIVERSITY_AGE_WEIGHT,\n",
        "                              GenderPresentation : DIVERSITY_GENDER_PRESENTATION_WEIGHT,\n",
        "                              SkinType : DIVERSITY_SKIN_TYPE_WEIGHT}"
      ],
      "execution_count": null,
      "outputs": []
    },
    {
      "cell_type": "code",
      "metadata": {
        "id": "Cy2s_5xlb3wk",
        "cellView": "form"
      },
      "source": [
        "#@title How should we aggregate the inclusion scores across all people in an image? { run: \"auto\" }\n",
        "INCLUSION_AGGREGATE_ACROSS_PEOPLE = \"average\" #@param [\"egalitarian\", \"utilitarian\", \"nash\", \"min\", \"max\", \"average\"]\n"
      ],
      "execution_count": null,
      "outputs": []
    },
    {
      "cell_type": "code",
      "metadata": {
        "id": "gSYes5lcb_mD",
        "cellView": "form"
      },
      "source": [
        "#@title How should we weigh the different components of our inclusion scores? { run: \"auto\" }\n",
        "\n",
        "INCLUSION_AGE_WEIGHT = 0.4 #@param {type:\"slider\", min:0, max:1, step:0.05}\n",
        "INCLUSION_GENDER_PRESENTATION_WEIGHT = 0.1 #@param {type:\"slider\", min:0, max:1, step:0.05}\n",
        "INCLUSION_SKIN_TYPE_WEIGHT = 0.85 #@param {type:\"slider\", min:0, max:1, step:0.05}\n",
        "\n",
        "INCLUSION_AGGREGATE_SCORES = {Age : INCLUSION_AGE_WEIGHT,\n",
        "                              GenderPresentation : INCLUSION_GENDER_PRESENTATION_WEIGHT,\n",
        "                              SkinType : INCLUSION_SKIN_TYPE_WEIGHT}"
      ],
      "execution_count": null,
      "outputs": []
    },
    {
      "cell_type": "code",
      "metadata": {
        "id": "B0waIDOd9hWD",
        "colab": {
          "base_uri": "https://localhost:8080/"
        },
        "cellView": "form",
        "outputId": "bcd91867-1c1c-49ac-a24c-0acdab547676"
      },
      "source": [
        "#@title Roll that all up into a scoring function...\n",
        "# How to aggregate across different types of subscores (e.g. age vs. gender)\n",
        "combiner = Combiner(diversity_weight=DIVERSITY_WEIGHT, \n",
        "                    diversity_aggregate=DIVERSITY_AGGREGATE_SCORES, \n",
        "                    inclusion_aggregate=INCLUSION_AGGREGATE_SCORES)\n",
        "\n",
        "scorer.diversity_fn = DiversityFn(\n",
        "    # How to aggregate across *people* in an image\n",
        "    aggregate_method=DIVERSITY_AGGREGATE_ACROSS_PEOPLE, \n",
        "    verbose_output=True)\n",
        "scorer.inclusion_fn = InclusionFn(\n",
        "    # How to aggregate across *people* in an image\n",
        "    aggregate_method=INCLUSION_AGGREGATE_ACROSS_PEOPLE, \n",
        "    verbose_output=True)\n",
        "scorer.combiner = combiner\n",
        "\n",
        "print('Weighting diversity score at %s, inclusion score at %s' % (\n",
        "    combiner.diversity_weight, combiner.inclusion_weight))\n",
        "print()\n",
        "print('Using %s to aggregate across individuals in each image (to get each inclusion subscore).' % scorer.inclusion_fn.aggregate_method)\n",
        "print('Using %s to aggregate across individuals in each image (to get each diversity subscore).' % scorer.diversity_fn.aggregate_method)\n",
        "print('Using %s to aggregate inclusion subscores.' % combiner.inclusion_aggregate_name)\n",
        "print('Using %s to aggregate diversity subscores.' % combiner.diversity_aggregate_name )\n",
        "print()\n",
        "print('Viewer:', me)\n",
        "# print('Query:', query)\n"
      ],
      "execution_count": null,
      "outputs": [
        {
          "output_type": "stream",
          "text": [
            "Weighting diversity score at 0.5, inclusion score at 0.5\n",
            "\n",
            "Using average to aggregate across individuals in each image (to get each inclusion subscore).\n",
            "Using average to aggregate across individuals in each image (to get each diversity subscore).\n",
            "Using weighed_average to aggregate inclusion subscores.\n",
            "Using weighed_average to aggregate diversity subscores.\n",
            "\n",
            "Viewer: <enum 'Age'>: Age.RANGE_25_44 <enum 'SkinType'>: SkinType.TYPE_2 <enum 'GenderPresentation'>: GenderPresentation.ANDROGYNOUS\n"
          ],
          "name": "stdout"
        }
      ]
    },
    {
      "cell_type": "markdown",
      "metadata": {
        "id": "HDBh2onCakNm"
      },
      "source": [
        "Voila! Now we can see what our function outputs:"
      ]
    },
    {
      "cell_type": "code",
      "metadata": {
        "id": "PHKa5wF3e01R",
        "colab": {
          "base_uri": "https://localhost:8080/",
          "height": 1000
        },
        "cellView": "form",
        "outputId": "bfafe7e0-436a-488b-8874-1f7b60e8700d"
      },
      "source": [
        "#@title Example: score an image with one person\n",
        "individ_score = scorer.score_image(image_1,\n",
        "                                   verbose_output=True)"
      ],
      "execution_count": null,
      "outputs": [
        {
          "output_type": "stream",
          "text": [
            "\n",
            "===================\n",
            "===== Scoring =====\n",
            "===================\n",
            "\n"
          ],
          "name": "stdout"
        },
        {
          "output_type": "display_data",
          "data": {
            "text/html": [
              "<img src=\"http://t0.gstatic.com/images?q=tbn:ANd9GcRvV0wp1mj3YUtZBsVlueDvUt0I0UbL9nIgBoPdTPnOSIZ4UCqEHP1UC5J26ULLAxazBvVv7BUNME0iO1QzimdKicZalaI\" width=200>"
            ],
            "text/plain": [
              "<IPython.core.display.HTML object>"
            ]
          },
          "metadata": {
            "tags": []
          }
        },
        {
          "output_type": "stream",
          "text": [
            "<enum 'Age'>: Age.RANGE_25_44 <enum 'SkinType'>: SkinType.TYPE_2 <enum 'GenderPresentation'>: GenderPresentation.ANDROGYNOUS\n",
            "\n",
            "===================================\n",
            "Diversity subscores (single image):\n",
            "===================================\n",
            "\n",
            "  - Aggregating scores across entities in image using method: average\n",
            "  - Using counts or simple binary presence/absence? binary\n",
            "\n",
            "   Which of the possible <enum 'Age'>s are present?\n",
            "   --> <enum 'Age'> subscore: 0.167\n",
            "           Age.RANGE_45_64: 1\n",
            "           Age.RANGE_0_17: 0\n",
            "           Age.UNKNOWN: 0\n",
            "           Age.RANGE_25_44: 0\n",
            "           Age.RANGE_18_24: 0\n",
            "           Age.RANGE_65_OVER: 0\n",
            "           1 <enum 'Age'>s represented / 6 total categories\n",
            "           average (binary vector): 0.167\n",
            "\n",
            "   Which of the possible <enum 'SkinType'>s are present?\n",
            "   --> <enum 'SkinType'> subscore: 0.143\n",
            "           SkinType.TYPE_3: 0\n",
            "           SkinType.TYPE_1: 0\n",
            "           SkinType.TYPE_4: 1\n",
            "           SkinType.TYPE_6: 0\n",
            "           SkinType.UNKNOWN: 0\n",
            "           SkinType.TYPE_2: 0\n",
            "           SkinType.TYPE_5: 0\n",
            "           1 <enum 'SkinType'>s represented / 7 total categories\n",
            "           average (binary vector): 0.143\n",
            "\n",
            "   Which of the possible <enum 'GenderPresentation'>s are present?\n",
            "   --> <enum 'GenderPresentation'> subscore: 0.25\n",
            "           GenderPresentation.ANDROGYNOUS: 0\n",
            "           GenderPresentation.UNKNOWN: 0\n",
            "           GenderPresentation.MASCULINE: 1\n",
            "           GenderPresentation.FEMININE: 0\n",
            "           1 <enum 'GenderPresentation'>s represented / 4 total categories\n",
            "           average (binary vector): 0.25\n",
            "\n",
            "Note: this image contains a single entity, so diversity is low by definition.\n",
            "\n",
            "===================================\n",
            "Inclusion subscores (single image)\n",
            "===================================\n",
            "\n",
            "  - Using aggregation method: average\n",
            "\n",
            "   Does anyone have a similar <enum 'Age'> to mine? (RANGE_25_44)\n",
            "   --> bucketed <enum 'Age'> closeness subscore: 0.8\n",
            "       per-entity scores: ['entity_0 = 0.8']\n",
            "       average: 0.8\n",
            "\n",
            "   Does anyone have a similar <enum 'SkinType'> to mine? (TYPE_2)\n",
            "   --> bucketed <enum 'SkinType'> closeness subscore: 0.667\n",
            "       per-entity scores: ['entity_0 = 0.667']\n",
            "       average: 0.667\n",
            "\n",
            "   Does anyone have the same <enum 'GenderPresentation'> as me? (ANDROGYNOUS)\n",
            "   --> <enum 'GenderPresentation'> match subscore: 0.0\n",
            "       per-entity scores: ['entity_0 = 0.0']\n",
            "        average: 0.0\n",
            "\n",
            "\n",
            "Aggregating image-level diversity scores with method: weighed_average\n",
            "--> Net image-level diversity score: 0.174\n",
            "\n",
            "Aggregating image-level inclusion scores with method: weighed_average\n",
            "--> Net image-level inclusion score: 0.887\n",
            "\n",
            "Combining diversity and inclusion scores at the image level:\n",
            "     0.5 * 0.174 +\n",
            "     0.5 * 0.887 =\n",
            "\n",
            "     -------------------\n",
            "    | Final score:  0.53 |\n",
            "     -------------------\n"
          ],
          "name": "stdout"
        }
      ]
    },
    {
      "cell_type": "code",
      "metadata": {
        "id": "wClPzuq34mku",
        "colab": {
          "base_uri": "https://localhost:8080/",
          "height": 1000
        },
        "cellView": "form",
        "outputId": "bbd14ead-097d-432a-e372-bf42db7478b6"
      },
      "source": [
        "#@title Example: Score an image with a small group\n",
        "scorer.diversity_fn = DiversityFn(aggregate_method='average', verbose_output=True)\n",
        "scorer.inclusion_fn = InclusionFn(aggregate_method='max', verbose_output=True)\n",
        "scorer.combiner = combiner\n",
        "individ_score = scorer.score_image(image_3, \n",
        "                                  #  query,\n",
        "                                   verbose_output=True)"
      ],
      "execution_count": null,
      "outputs": [
        {
          "output_type": "stream",
          "text": [
            "\n",
            "===================\n",
            "===== Scoring =====\n",
            "===================\n",
            "\n"
          ],
          "name": "stdout"
        },
        {
          "output_type": "display_data",
          "data": {
            "text/html": [
              "<img src=\"https://media.gettyimages.com/photos/picture-id973089468\" width=200>"
            ],
            "text/plain": [
              "<IPython.core.display.HTML object>"
            ]
          },
          "metadata": {
            "tags": []
          }
        },
        {
          "output_type": "stream",
          "text": [
            "<enum 'Age'>: Age.RANGE_25_44 <enum 'SkinType'>: SkinType.TYPE_2 <enum 'GenderPresentation'>: GenderPresentation.ANDROGYNOUS\n",
            "\n",
            "===================================\n",
            "Diversity subscores (single image):\n",
            "===================================\n",
            "\n",
            "  - Aggregating scores across entities in image using method: average\n",
            "  - Using counts or simple binary presence/absence? binary\n",
            "\n",
            "   Which of the possible <enum 'Age'>s are present?\n",
            "   --> <enum 'Age'> subscore: 0.333\n",
            "           Age.RANGE_45_64: 1\n",
            "           Age.RANGE_0_17: 0\n",
            "           Age.UNKNOWN: 0\n",
            "           Age.RANGE_25_44: 0\n",
            "           Age.RANGE_18_24: 2\n",
            "           Age.RANGE_65_OVER: 0\n",
            "           2 <enum 'Age'>s represented / 6 total categories\n",
            "           average (binary vector): 0.333\n",
            "\n",
            "   Which of the possible <enum 'SkinType'>s are present?\n",
            "   --> <enum 'SkinType'> subscore: 0.286\n",
            "           SkinType.TYPE_3: 0\n",
            "           SkinType.TYPE_1: 2\n",
            "           SkinType.TYPE_4: 0\n",
            "           SkinType.TYPE_6: 0\n",
            "           SkinType.UNKNOWN: 0\n",
            "           SkinType.TYPE_2: 1\n",
            "           SkinType.TYPE_5: 0\n",
            "           2 <enum 'SkinType'>s represented / 7 total categories\n",
            "           average (binary vector): 0.286\n",
            "\n",
            "   Which of the possible <enum 'GenderPresentation'>s are present?\n",
            "   --> <enum 'GenderPresentation'> subscore: 0.5\n",
            "           GenderPresentation.ANDROGYNOUS: 0\n",
            "           GenderPresentation.UNKNOWN: 0\n",
            "           GenderPresentation.MASCULINE: 1\n",
            "           GenderPresentation.FEMININE: 2\n",
            "           2 <enum 'GenderPresentation'>s represented / 4 total categories\n",
            "           average (binary vector): 0.5\n",
            "\n",
            "\n",
            "===================================\n",
            "Inclusion subscores (single image)\n",
            "===================================\n",
            "\n",
            "  - Using aggregation method: max\n",
            "\n",
            "   Does anyone have a similar <enum 'Age'> to mine? (RANGE_25_44)\n",
            "   --> bucketed <enum 'Age'> closeness subscore: 0.8\n",
            "       per-entity scores: ['entity_0 = 0.8', 'entity_1 = 0.8', 'entity_2 = 0.8']\n",
            "       max: 0.8\n",
            "\n",
            "   Does anyone have a similar <enum 'SkinType'> to mine? (TYPE_2)\n",
            "   --> bucketed <enum 'SkinType'> closeness subscore: 1.0\n",
            "       per-entity scores: ['entity_0 = 0.833', 'entity_1 = 0.833', 'entity_2 = 1.0']\n",
            "       max: 1.0\n",
            "\n",
            "   Does anyone have the same <enum 'GenderPresentation'> as me? (ANDROGYNOUS)\n",
            "   --> <enum 'GenderPresentation'> match subscore: 0.0\n",
            "       per-entity scores: ['entity_0 = 0.0', 'entity_1 = 0.0', 'entity_2 = 0.0']\n",
            "        max: 0.0\n",
            "\n",
            "\n",
            "Aggregating image-level diversity scores with method: weighed_average\n",
            "--> Net image-level diversity score: 0.348\n",
            "\n",
            "Aggregating image-level inclusion scores with method: weighed_average\n",
            "--> Net image-level inclusion score: 1.17\n",
            "\n",
            "Combining diversity and inclusion scores at the image level:\n",
            "     0.5 * 0.348 +\n",
            "     0.5 * 1.17 =\n",
            "\n",
            "     -------------------\n",
            "    | Final score:  0.759 |\n",
            "     -------------------\n"
          ],
          "name": "stdout"
        }
      ]
    },
    {
      "cell_type": "code",
      "metadata": {
        "id": "NVY2o9qCp0Ou",
        "colab": {
          "base_uri": "https://localhost:8080/",
          "height": 868
        },
        "cellView": "form",
        "outputId": "2e008d12-8a7f-4312-97d9-a717853689df"
      },
      "source": [
        "#@title Ranking images\n",
        "image_ranking = scorer.rank_images(images=[image_1, image_2, image_3],\n",
        "                                   verbose_output=True)"
      ],
      "execution_count": null,
      "outputs": [
        {
          "output_type": "stream",
          "text": [
            "===================\n",
            "===== Ranking =====\n",
            "===================\n",
            "<enum 'Age'>: Age.RANGE_25_44 <enum 'SkinType'>: SkinType.TYPE_2 <enum 'GenderPresentation'>: GenderPresentation.ANDROGYNOUS\n",
            "Query: \n",
            "\n",
            "\n",
            "==== Ranking 1 [score: 0.759] ====\n"
          ],
          "name": "stdout"
        },
        {
          "output_type": "display_data",
          "data": {
            "text/html": [
              "<img src=\"https://media.gettyimages.com/photos/picture-id973089468\" width=200>"
            ],
            "text/plain": [
              "<IPython.core.display.HTML object>"
            ]
          },
          "metadata": {
            "tags": []
          }
        },
        {
          "output_type": "stream",
          "text": [
            "\n",
            "\n",
            "==== Ranking 2 [score: 0.53] ====\n"
          ],
          "name": "stdout"
        },
        {
          "output_type": "display_data",
          "data": {
            "text/html": [
              "<img src=\"http://t0.gstatic.com/images?q=tbn:ANd9GcRvV0wp1mj3YUtZBsVlueDvUt0I0UbL9nIgBoPdTPnOSIZ4UCqEHP1UC5J26ULLAxazBvVv7BUNME0iO1QzimdKicZalaI\" width=200>"
            ],
            "text/plain": [
              "<IPython.core.display.HTML object>"
            ]
          },
          "metadata": {
            "tags": []
          }
        },
        {
          "output_type": "stream",
          "text": [
            "\n",
            "\n",
            "==== Ranking 3 [score: 0.499] ====\n"
          ],
          "name": "stdout"
        },
        {
          "output_type": "display_data",
          "data": {
            "text/html": [
              "<img src=\"http://t1.gstatic.com/images?q=tbn:ANd9GcQrK6SD6AgFfZlJcdrHhcAzTQSpWmf87ZvAA8DsTOpzwg2SSiKk9VrmA5VhifqVbwt4SgP3B7cFdB8In6NKNs1Q7nAelpU\" width=200>"
            ],
            "text/plain": [
              "<IPython.core.display.HTML object>"
            ]
          },
          "metadata": {
            "tags": []
          }
        },
        {
          "output_type": "stream",
          "text": [
            "\n",
            "\n"
          ],
          "name": "stdout"
        }
      ]
    },
    {
      "cell_type": "code",
      "metadata": {
        "id": "Ku1ClTfdPjyU",
        "colab": {
          "base_uri": "https://localhost:8080/",
          "height": 1000
        },
        "cellView": "form",
        "outputId": "b1cb8a86-2c8b-4c9f-cd7d-5d9c29cd6c28"
      },
      "source": [
        "#@title Example: treat our images as a set and aggregate all of the diversity and inclusion scores\n",
        "scorer.score_set(images=[image_1, image_2, image_3],\n",
        "                 verbose_output=True)"
      ],
      "execution_count": null,
      "outputs": [
        {
          "output_type": "stream",
          "text": [
            "\n",
            "Scoring image 1\n",
            "\n",
            "\n",
            "===================\n",
            "===== Scoring =====\n",
            "===================\n",
            "\n"
          ],
          "name": "stdout"
        },
        {
          "output_type": "display_data",
          "data": {
            "text/html": [
              "<img src=\"http://t0.gstatic.com/images?q=tbn:ANd9GcRvV0wp1mj3YUtZBsVlueDvUt0I0UbL9nIgBoPdTPnOSIZ4UCqEHP1UC5J26ULLAxazBvVv7BUNME0iO1QzimdKicZalaI\" width=200>"
            ],
            "text/plain": [
              "<IPython.core.display.HTML object>"
            ]
          },
          "metadata": {
            "tags": []
          }
        },
        {
          "output_type": "stream",
          "text": [
            "<enum 'Age'>: Age.RANGE_25_44 <enum 'SkinType'>: SkinType.TYPE_2 <enum 'GenderPresentation'>: GenderPresentation.ANDROGYNOUS\n",
            "\n",
            "===================================\n",
            "Diversity subscores (single image):\n",
            "===================================\n",
            "\n",
            "  - Aggregating scores across entities in image using method: average\n",
            "  - Using counts or simple binary presence/absence? binary\n",
            "\n",
            "   Which of the possible <enum 'Age'>s are present?\n",
            "   --> <enum 'Age'> subscore: 0.167\n",
            "           Age.RANGE_45_64: 1\n",
            "           Age.RANGE_0_17: 0\n",
            "           Age.UNKNOWN: 0\n",
            "           Age.RANGE_25_44: 0\n",
            "           Age.RANGE_18_24: 0\n",
            "           Age.RANGE_65_OVER: 0\n",
            "           1 <enum 'Age'>s represented / 6 total categories\n",
            "           average (binary vector): 0.167\n",
            "\n",
            "   Which of the possible <enum 'SkinType'>s are present?\n",
            "   --> <enum 'SkinType'> subscore: 0.143\n",
            "           SkinType.TYPE_3: 0\n",
            "           SkinType.TYPE_1: 0\n",
            "           SkinType.TYPE_4: 1\n",
            "           SkinType.TYPE_6: 0\n",
            "           SkinType.UNKNOWN: 0\n",
            "           SkinType.TYPE_2: 0\n",
            "           SkinType.TYPE_5: 0\n",
            "           1 <enum 'SkinType'>s represented / 7 total categories\n",
            "           average (binary vector): 0.143\n",
            "\n",
            "   Which of the possible <enum 'GenderPresentation'>s are present?\n",
            "   --> <enum 'GenderPresentation'> subscore: 0.25\n",
            "           GenderPresentation.ANDROGYNOUS: 0\n",
            "           GenderPresentation.UNKNOWN: 0\n",
            "           GenderPresentation.MASCULINE: 1\n",
            "           GenderPresentation.FEMININE: 0\n",
            "           1 <enum 'GenderPresentation'>s represented / 4 total categories\n",
            "           average (binary vector): 0.25\n",
            "\n",
            "Note: this image contains a single entity, so diversity is low by definition.\n",
            "\n",
            "===================================\n",
            "Inclusion subscores (single image)\n",
            "===================================\n",
            "\n",
            "  - Using aggregation method: max\n",
            "\n",
            "   Does anyone have a similar <enum 'Age'> to mine? (RANGE_25_44)\n",
            "   --> bucketed <enum 'Age'> closeness subscore: 0.8\n",
            "       per-entity scores: ['entity_0 = 0.8']\n",
            "       max: 0.8\n",
            "\n",
            "   Does anyone have a similar <enum 'SkinType'> to mine? (TYPE_2)\n",
            "   --> bucketed <enum 'SkinType'> closeness subscore: 0.667\n",
            "       per-entity scores: ['entity_0 = 0.667']\n",
            "       max: 0.667\n",
            "\n",
            "   Does anyone have the same <enum 'GenderPresentation'> as me? (ANDROGYNOUS)\n",
            "   --> <enum 'GenderPresentation'> match subscore: 0.0\n",
            "       per-entity scores: ['entity_0 = 0.0']\n",
            "        max: 0.0\n",
            "\n",
            "\n",
            "Scoring image 2\n",
            "\n",
            "\n",
            "===================\n",
            "===== Scoring =====\n",
            "===================\n",
            "\n"
          ],
          "name": "stdout"
        },
        {
          "output_type": "display_data",
          "data": {
            "text/html": [
              "<img src=\"http://t1.gstatic.com/images?q=tbn:ANd9GcQrK6SD6AgFfZlJcdrHhcAzTQSpWmf87ZvAA8DsTOpzwg2SSiKk9VrmA5VhifqVbwt4SgP3B7cFdB8In6NKNs1Q7nAelpU\" width=200>"
            ],
            "text/plain": [
              "<IPython.core.display.HTML object>"
            ]
          },
          "metadata": {
            "tags": []
          }
        },
        {
          "output_type": "stream",
          "text": [
            "<enum 'Age'>: Age.RANGE_25_44 <enum 'SkinType'>: SkinType.TYPE_2 <enum 'GenderPresentation'>: GenderPresentation.ANDROGYNOUS\n",
            "\n",
            "===================================\n",
            "Diversity subscores (single image):\n",
            "===================================\n",
            "\n",
            "  - Aggregating scores across entities in image using method: average\n",
            "  - Using counts or simple binary presence/absence? binary\n",
            "\n",
            "   Which of the possible <enum 'Age'>s are present?\n",
            "   --> <enum 'Age'> subscore: 0.167\n",
            "           Age.RANGE_45_64: 0\n",
            "           Age.RANGE_0_17: 0\n",
            "           Age.UNKNOWN: 0\n",
            "           Age.RANGE_25_44: 1\n",
            "           Age.RANGE_18_24: 0\n",
            "           Age.RANGE_65_OVER: 0\n",
            "           1 <enum 'Age'>s represented / 6 total categories\n",
            "           average (binary vector): 0.167\n",
            "\n",
            "   Which of the possible <enum 'SkinType'>s are present?\n",
            "   --> <enum 'SkinType'> subscore: 0.143\n",
            "           SkinType.TYPE_3: 0\n",
            "           SkinType.TYPE_1: 0\n",
            "           SkinType.TYPE_4: 0\n",
            "           SkinType.TYPE_6: 0\n",
            "           SkinType.UNKNOWN: 0\n",
            "           SkinType.TYPE_2: 0\n",
            "           SkinType.TYPE_5: 1\n",
            "           1 <enum 'SkinType'>s represented / 7 total categories\n",
            "           average (binary vector): 0.143\n",
            "\n",
            "   Which of the possible <enum 'GenderPresentation'>s are present?\n",
            "   --> <enum 'GenderPresentation'> subscore: 0.25\n",
            "           GenderPresentation.ANDROGYNOUS: 0\n",
            "           GenderPresentation.UNKNOWN: 0\n",
            "           GenderPresentation.MASCULINE: 0\n",
            "           GenderPresentation.FEMININE: 1\n",
            "           1 <enum 'GenderPresentation'>s represented / 4 total categories\n",
            "           average (binary vector): 0.25\n",
            "\n",
            "Note: this image contains a single entity, so diversity is low by definition.\n",
            "\n",
            "===================================\n",
            "Inclusion subscores (single image)\n",
            "===================================\n",
            "\n",
            "  - Using aggregation method: max\n",
            "\n",
            "   Does anyone have a similar <enum 'Age'> to mine? (RANGE_25_44)\n",
            "   --> bucketed <enum 'Age'> closeness subscore: 1.0\n",
            "       per-entity scores: ['entity_0 = 1.0']\n",
            "       max: 1.0\n",
            "\n",
            "   Does anyone have a similar <enum 'SkinType'> to mine? (TYPE_2)\n",
            "   --> bucketed <enum 'SkinType'> closeness subscore: 0.5\n",
            "       per-entity scores: ['entity_0 = 0.5']\n",
            "       max: 0.5\n",
            "\n",
            "   Does anyone have the same <enum 'GenderPresentation'> as me? (ANDROGYNOUS)\n",
            "   --> <enum 'GenderPresentation'> match subscore: 0.0\n",
            "       per-entity scores: ['entity_0 = 0.0']\n",
            "        max: 0.0\n",
            "\n",
            "\n",
            "Scoring image 3\n",
            "\n",
            "\n",
            "===================\n",
            "===== Scoring =====\n",
            "===================\n",
            "\n"
          ],
          "name": "stdout"
        },
        {
          "output_type": "display_data",
          "data": {
            "text/html": [
              "<img src=\"https://media.gettyimages.com/photos/picture-id973089468\" width=200>"
            ],
            "text/plain": [
              "<IPython.core.display.HTML object>"
            ]
          },
          "metadata": {
            "tags": []
          }
        },
        {
          "output_type": "stream",
          "text": [
            "<enum 'Age'>: Age.RANGE_25_44 <enum 'SkinType'>: SkinType.TYPE_2 <enum 'GenderPresentation'>: GenderPresentation.ANDROGYNOUS\n",
            "\n",
            "===================================\n",
            "Diversity subscores (single image):\n",
            "===================================\n",
            "\n",
            "  - Aggregating scores across entities in image using method: average\n",
            "  - Using counts or simple binary presence/absence? binary\n",
            "\n",
            "   Which of the possible <enum 'Age'>s are present?\n",
            "   --> <enum 'Age'> subscore: 0.333\n",
            "           Age.RANGE_45_64: 1\n",
            "           Age.RANGE_0_17: 0\n",
            "           Age.UNKNOWN: 0\n",
            "           Age.RANGE_25_44: 0\n",
            "           Age.RANGE_18_24: 2\n",
            "           Age.RANGE_65_OVER: 0\n",
            "           2 <enum 'Age'>s represented / 6 total categories\n",
            "           average (binary vector): 0.333\n",
            "\n",
            "   Which of the possible <enum 'SkinType'>s are present?\n",
            "   --> <enum 'SkinType'> subscore: 0.286\n",
            "           SkinType.TYPE_3: 0\n",
            "           SkinType.TYPE_1: 2\n",
            "           SkinType.TYPE_4: 0\n",
            "           SkinType.TYPE_6: 0\n",
            "           SkinType.UNKNOWN: 0\n",
            "           SkinType.TYPE_2: 1\n",
            "           SkinType.TYPE_5: 0\n",
            "           2 <enum 'SkinType'>s represented / 7 total categories\n",
            "           average (binary vector): 0.286\n",
            "\n",
            "   Which of the possible <enum 'GenderPresentation'>s are present?\n",
            "   --> <enum 'GenderPresentation'> subscore: 0.5\n",
            "           GenderPresentation.ANDROGYNOUS: 0\n",
            "           GenderPresentation.UNKNOWN: 0\n",
            "           GenderPresentation.MASCULINE: 1\n",
            "           GenderPresentation.FEMININE: 2\n",
            "           2 <enum 'GenderPresentation'>s represented / 4 total categories\n",
            "           average (binary vector): 0.5\n",
            "\n",
            "\n",
            "===================================\n",
            "Inclusion subscores (single image)\n",
            "===================================\n",
            "\n",
            "  - Using aggregation method: max\n",
            "\n",
            "   Does anyone have a similar <enum 'Age'> to mine? (RANGE_25_44)\n",
            "   --> bucketed <enum 'Age'> closeness subscore: 0.8\n",
            "       per-entity scores: ['entity_0 = 0.8', 'entity_1 = 0.8', 'entity_2 = 0.8']\n",
            "       max: 0.8\n",
            "\n",
            "   Does anyone have a similar <enum 'SkinType'> to mine? (TYPE_2)\n",
            "   --> bucketed <enum 'SkinType'> closeness subscore: 1.0\n",
            "       per-entity scores: ['entity_0 = 0.833', 'entity_1 = 0.833', 'entity_2 = 1.0']\n",
            "       max: 1.0\n",
            "\n",
            "   Does anyone have the same <enum 'GenderPresentation'> as me? (ANDROGYNOUS)\n",
            "   --> <enum 'GenderPresentation'> match subscore: 0.0\n",
            "       per-entity scores: ['entity_0 = 0.0', 'entity_1 = 0.0', 'entity_2 = 0.0']\n",
            "        max: 0.0\n",
            "\n",
            "\n",
            "Aggregating set-level diversity scores with method: average\n",
            "--> Net set-level diversity score: 0.232\n",
            "\n",
            "Aggregating set-level inclusion scores with method: average\n",
            "--> Net set-level inclusion score: 0.961\n",
            "\n",
            "Combining diversity and inclusion scores at the set level:\n",
            "     0.5 * 0.232 +\n",
            "     0.5 * 0.961 =\n",
            "\n",
            "     -------------------\n",
            "    | Final score:  0.596 |\n",
            "     -------------------\n"
          ],
          "name": "stdout"
        },
        {
          "output_type": "execute_result",
          "data": {
            "text/plain": [
              "0.5961507936507937"
            ]
          },
          "metadata": {
            "tags": []
          },
          "execution_count": 31
        }
      ]
    },
    {
      "cell_type": "markdown",
      "metadata": {
        "id": "765K3WaLxRvm"
      },
      "source": [
        "# Conclusion\n",
        "\n",
        "As you can see in our toy examples, things can get complex fast, and it's easy to get lost in the details. What categories do we care about the most? How do we label them? What do these scores even mean? There's no obvious \"right\" way to design a ranking system like this. \n",
        "\n",
        "What's important to keep in mind is that when trying to quantify concepts like \"diversity\" and \"inclusion\" is this: even design decisions that seem arbitrary or inconsequential can end up encoding priorities, values, and worldviews. These details matter; be thoughtful!\n",
        "\n",
        "\n",
        "\n"
      ]
    },
    {
      "cell_type": "markdown",
      "metadata": {
        "id": "lHWL-cSOH-nk"
      },
      "source": [
        "# Credits\n",
        "\n",
        "This notebook was written by Dylan Baker (`dylanbaker@google.com`).\n",
        "\n",
        "Many thanks to Adam Pearce, Ellen Jiang, Meg Mitchell, Timnit Gebru, and Ben Hutchinson for their help and feedback."
      ]
    }
  ]
}